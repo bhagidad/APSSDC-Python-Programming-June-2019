{
 "cells": [
  {
   "cell_type": "markdown",
   "metadata": {},
   "source": [
    "# Problem Solving and Programming\n",
    "\n",
    "#### Date 12 June 2019\n",
    "\n",
    "#### Day Objectives\n",
    "- String Slicing\n",
    "- Functions in Python\n",
    "- Basic Problems related to conditional statements using functions\n",
    "- Iteration in Python\n",
    "- Problem set for practice"
   ]
  },
  {
   "cell_type": "code",
   "execution_count": null,
   "metadata": {},
   "outputs": [],
   "source": []
  },
  {
   "cell_type": "markdown",
   "metadata": {},
   "source": [
    "# String Slicing"
   ]
  },
  {
   "cell_type": "code",
   "execution_count": 13,
   "metadata": {},
   "outputs": [
    {
     "data": {
      "text/plain": [
       "'nohtyP'"
      ]
     },
     "execution_count": 13,
     "metadata": {},
     "output_type": "execute_result"
    }
   ],
   "source": [
    "s1 = \"Python\"\n",
    "\n",
    "s1[0] # Accessing the First Character in a String\n",
    "s1[1] # Accessing the Second Character in a String\n",
    "s1[-1] # Accessing the Last Character in aString\n",
    "\n",
    "s1[len(s1)-1] # Another way of Accessing the Last Character in a String\n",
    "\n",
    "s1[-2] # Accessing the Penultimate Character of the String\n",
    "\n",
    "s1[0:2] # Accessing the First two Character in a String\n",
    "\n",
    "s1[-2:] # Accessing the Last two Character in a String\n",
    "\n",
    "s1[4:] # Acessing all characters 5th character to end of string\n",
    "\n",
    "s1[1:-1] # Accessing all the Character excet first and last characters in a String\n",
    "\n",
    "s1[len(s1)//2] #Accessing the middle characters \n",
    "\n",
    "s1[-1::-1] #Reverse of a string\n",
    "\n",
    "s1[-1:-3:-1] # Accessing last two characters in a string\n",
    "\n",
    "s1[len(s1)//2:(len(s1)//2)+2:-1]# Reverse the middle two characters in an even length string\n",
    "   \n",
    "\n",
    "   \n",
    "# Accessing alternate characters in a string\n",
    "# \"Python\" -> \"Pto\"\n",
    "s1[::2]\n",
    "\n",
    "   \n",
    "# Accessing alternate characters in a string in reverse order\n",
    "# \"Python\" -> \"nhy\"\n",
    "s1[::-2]\n",
    "\n",
    "s1[::-1]"
   ]
  },
  {
   "cell_type": "code",
   "execution_count": null,
   "metadata": {},
   "outputs": [],
   "source": []
  },
  {
   "cell_type": "markdown",
   "metadata": {},
   "source": [
    "# Functions\n",
    "\n"
   ]
  },
  {
   "cell_type": "code",
   "execution_count": 16,
   "metadata": {},
   "outputs": [
    {
     "data": {
      "text/plain": [
       "'nohtyP'"
      ]
     },
     "execution_count": 16,
     "metadata": {},
     "output_type": "execute_result"
    }
   ],
   "source": [
    "# Functions to reverse a string\n",
    "def reverseString(s):\n",
    "    return s[::-1]\n",
    "reverseString(\"Python\")"
   ]
  },
  {
   "cell_type": "code",
   "execution_count": 24,
   "metadata": {},
   "outputs": [
    {
     "data": {
      "text/plain": [
       "True"
      ]
     },
     "execution_count": 24,
     "metadata": {},
     "output_type": "execute_result"
    }
   ],
   "source": [
    "# Function to check if a string is a palindrome\n",
    "\n",
    "def palindrome(s):\n",
    "    if s == s[::-1]:\n",
    "        return True\n",
    "    else:\n",
    "        return False\n",
    "palindrome(\"123321\")"
   ]
  },
  {
   "cell_type": "code",
   "execution_count": 31,
   "metadata": {},
   "outputs": [
    {
     "data": {
      "text/plain": [
       "True"
      ]
     },
     "execution_count": 31,
     "metadata": {},
     "output_type": "execute_result"
    }
   ],
   "source": [
    "# Function to check if a given year is a leap year\n",
    "def isLeapYear(year):\n",
    "    if year % 400 == 0 or (year % 100 != 0 and year % 4 == 0):\n",
    "        return True\n",
    "    else:\n",
    "        return False\n",
    "isLeapYear(2016)"
   ]
  },
  {
   "cell_type": "code",
   "execution_count": 4,
   "metadata": {},
   "outputs": [
    {
     "data": {
      "text/plain": [
       "7"
      ]
     },
     "execution_count": 4,
     "metadata": {},
     "output_type": "execute_result"
    }
   ],
   "source": [
    "# Function to number of digits in a given number\n",
    "\n",
    "def countOfDigits(number):\n",
    "    return (len(str(number)))\n",
    "countOfDigits(1234567)"
   ]
  },
  {
   "cell_type": "code",
   "execution_count": 5,
   "metadata": {},
   "outputs": [
    {
     "data": {
      "text/plain": [
       "10"
      ]
     },
     "execution_count": 5,
     "metadata": {},
     "output_type": "execute_result"
    }
   ],
   "source": [
    "# Function to identify the gretest of 4 numbers\n",
    "\n",
    "def greatestNumber(n1, n2, n3, n4):\n",
    "    if(n1>n2 and n1>n3 and n1>n4):\n",
    "        return n1\n",
    "    elif(n2>n3 and n2 > n4):\n",
    "        return n2\n",
    "    elif(n3>n4):\n",
    "        return n3\n",
    "    else:\n",
    "        return n4\n",
    "greatestNumber(10,4,2,8)\n"
   ]
  },
  {
   "cell_type": "code",
   "execution_count": null,
   "metadata": {},
   "outputs": [],
   "source": []
  },
  {
   "cell_type": "markdown",
   "metadata": {},
   "source": [
    "### Iteration\n",
    "\n",
    "- for\n",
    "- while\n",
    "\n",
    "###### For Loop in Python\n",
    "\n",
    "[lb, ub]    # lb = 101, ub = 210\n",
    "\n",
    "for i in range(lb,ub+1)\n",
    "    print i\n",
    "    \n",
    "O/P :-\n",
    "\n",
    "101\n",
    "102\n",
    ".\n",
    ".\n",
    ".\n",
    "210"
   ]
  },
  {
   "cell_type": "code",
   "execution_count": 1,
   "metadata": {},
   "outputs": [
    {
     "name": "stdout",
     "output_type": "stream",
     "text": [
      "1 2 3 4 5 6 7 8 9 10 11 12 13 14 15 16 17 18 19 20 21 22 23 24 25 26 27 28 29 30 31 32 33 34 35 36 37 38 39 40 41 42 43 44 45 46 47 48 49 50 50\n",
      "1 2 3 4 5 6 7 8 9 10 10\n"
     ]
    }
   ],
   "source": [
    "# Function to print n natural numbers\n",
    "\n",
    "def printNNaturalNumbers(n):\n",
    "    for counter in range(1, n+1):\n",
    "        print(counter, end=\" \")\n",
    "    print(n)\n",
    "    return\n",
    "printNNaturalNumbers(50)\n",
    "printNNaturalNumbers(10)"
   ]
  },
  {
   "cell_type": "code",
   "execution_count": 7,
   "metadata": {},
   "outputs": [
    {
     "name": "stdout",
     "output_type": "stream",
     "text": [
      "500 504 508 512 516 520 524 528 532 536 540 544 548 "
     ]
    }
   ],
   "source": [
    "# Function to print the alternative values in a range in the same line [500, 550] -> 500, 502, 504....550 inclusive set\n",
    "# (500, 550) -> 501, 503, ...549 exclusive set\n",
    "# range(500, 550) -> 500, 501... 549\n",
    "# All set based functions in Python have start value is inclusive and end value is exclusive\n",
    "\n",
    "def alternativeNumbers(lb, ub):\n",
    "    for i in range(lb, ub+1, 4):\n",
    "        print (i, end= \" \")\n",
    "    return\n",
    "alternativeNumbers(500, 550)\n",
    "\n",
    "\n"
   ]
  },
  {
   "cell_type": "code",
   "execution_count": 21,
   "metadata": {},
   "outputs": [
    {
     "name": "stdout",
     "output_type": "stream",
     "text": [
      "10 9 8 7 6 5 4 3 2 1 "
     ]
    }
   ],
   "source": [
    "# Function to print reverse of given range in given range in same line\n",
    "\n",
    "def reverseNumbers(lb, ub):\n",
    "    for i in range(ub, lb-1, -1):\n",
    "        print (i, end=\" \")\n",
    "    return\n",
    "\n",
    "reverseNumbers(1, 10)"
   ]
  },
  {
   "cell_type": "code",
   "execution_count": 5,
   "metadata": {},
   "outputs": [
    {
     "name": "stdout",
     "output_type": "stream",
     "text": [
      "9 7 5 3 1 "
     ]
    }
   ],
   "source": [
    "# Function to print the odd numbers in reverse in a range\n",
    "\n",
    "def oddReverse(lb, ub):\n",
    "    for i in range(ub, lb-1,-1):\n",
    "        if(i % 2 != 0):\n",
    "            print(i, end=\" \")\n",
    "    return\n",
    "oddReverse(1, 10)"
   ]
  },
  {
   "cell_type": "code",
   "execution_count": 20,
   "metadata": {},
   "outputs": [
    {
     "data": {
      "text/plain": [
       "15150"
      ]
     },
     "execution_count": 20,
     "metadata": {},
     "output_type": "execute_result"
    }
   ],
   "source": [
    "#Function to calculate the sum of numbers in range\n",
    "\n",
    "def sumNumbers(lb, ub):\n",
    "    sum=0\n",
    "    for i in range(lb, ub+1):\n",
    "        sum=sum + i\n",
    "    return sum\n",
    "sumNumbers(100, 200)\n",
    "        "
   ]
  },
  {
   "cell_type": "code",
   "execution_count": 26,
   "metadata": {},
   "outputs": [
    {
     "data": {
      "text/plain": [
       "5.5"
      ]
     },
     "execution_count": 26,
     "metadata": {},
     "output_type": "execute_result"
    }
   ],
   "source": [
    "# Function to calculate the average of a given range (1, 5) -> 3 \n",
    "\n",
    "def averageRange(lb, ub):\n",
    "    sum=0\n",
    "    average=0\n",
    "    count=0\n",
    "    for i in range(lb, ub+1):\n",
    "        sum=sum+i\n",
    "        count=count+1\n",
    "        average=sum/count\n",
    "    return average\n",
    "averageRange(1,10)       "
   ]
  },
  {
   "cell_type": "code",
   "execution_count": 6,
   "metadata": {},
   "outputs": [
    {
     "name": "stdout",
     "output_type": "stream",
     "text": [
      "2000 2004 2008 2012 2016 2020 "
     ]
    }
   ],
   "source": [
    "# Function to geneate all leap years in a given time period\n",
    "# 2000 - 2020 -> 2000 2004 2008 2012 2016 2020\n",
    "\n",
    "def isLeapYear(year):    #check if a given year is a Leap Year \n",
    "    if year % 400 == 0 or (year % 100 != 0 and year % 4 == 0):\n",
    "            return True\n",
    "    return False\n",
    "            \n",
    "def generateLeapYears(start, end):   # uses the isLeapYear()\n",
    "    for year in range(start, end+1):\n",
    "        if isLeapYear(year):\n",
    "            print(year, end=\" \")\n",
    "    return\n",
    "    \n",
    "generateLeapYears(2000, 2020)"
   ]
  },
  {
   "cell_type": "code",
   "execution_count": 13,
   "metadata": {},
   "outputs": [
    {
     "data": {
      "text/plain": [
       "2557"
      ]
     },
     "execution_count": 13,
     "metadata": {},
     "output_type": "execute_result"
    }
   ],
   "source": [
    "# Calculate the number of days in a time period using leap year\n",
    "# For every year in the given time period, if the year is not a leap year -> 365 to sum, add 366 to sum\n",
    "\n",
    "def numberOfDays(start, end):\n",
    "    sum = 0\n",
    "    for  year in range(start, end+1):\n",
    "            if isLeapYear(year):\n",
    "                sum = sum + 366\n",
    "            else:\n",
    "                sum = sum + 365\n",
    "    return sum\n",
    "# number of days in middle years 2001 to 2005\n",
    "numberOfDays(2000, 2006)\n",
    "       "
   ]
  },
  {
   "cell_type": "code",
   "execution_count": 14,
   "metadata": {},
   "outputs": [
    {
     "data": {
      "text/plain": [
       "205248"
      ]
     },
     "execution_count": 14,
     "metadata": {},
     "output_type": "execute_result"
    }
   ],
   "source": [
    "# Function to calculate number of hours for a given period (11, 1975, 3, 1999) -> 20504\n",
    "# (5,2019,6,2019) -> 1464\n",
    "\n",
    "def numberOfDaysMonth(month, year):\n",
    "    if month == 2:\n",
    "        if isLeapYear(year):\n",
    "            return 29\n",
    "        return 28\n",
    "    elif(month <= 7 and month % 2 != 0) or (month >= 8 and month % 2 == 0):\n",
    "        return 31\n",
    "    else:\n",
    "        return 30\n",
    "def daysInStartYear(startmonth, startyear):\n",
    "    days = 0\n",
    "    for month in range(startmonth, 13):\n",
    "        days += numberOfDaysMonth(month, startyear)\n",
    "    return days\n",
    "def daysInEndYear(endmonth, endyear):\n",
    "    days = 0\n",
    "    for month in range(1, endmonth+1):\n",
    "        days += numberOfDaysMonth(month, endyear)\n",
    "    return days\n",
    "def numberOfHours(startmonth,startyear,endmonth,endyear):\n",
    "    days = 0\n",
    "    if startyear != endyear:\n",
    "        days += daysInStartYear(startmonth,startyear)\n",
    "        days += daysInEndYear(endmonth,endyear)\n",
    "        if endyear-startyear == 2:\n",
    "            days += numberOfDays(startyear+1, startyear+1)\n",
    "        elif endyear-startyear > 2:\n",
    "            days += numberOfDays(startyear+1, endyear-1)\n",
    "    else:\n",
    "        for month in range(startmonth, endmonth+1):\n",
    "            days += numberOfDaysMonth(month, startyear)\n",
    "    return 24 * days\n",
    "    \n",
    "numberOfHours(11, 1975, 3, 1999)\n",
    "        \n",
    "        "
   ]
  },
  {
   "cell_type": "code",
   "execution_count": 15,
   "metadata": {},
   "outputs": [
    {
     "data": {
      "text/plain": [
       "205248"
      ]
     },
     "execution_count": 15,
     "metadata": {},
     "output_type": "execute_result"
    }
   ],
   "source": [
    "# Function to calculate number of hours for a given period in the format(month1, year1, month2, year2)\n",
    "# numberOfHours(11, 1975, 3, 1999) -> 204504 or 205248\n",
    "# numberOfHours(5, 2019, 6, 2019) -> 1464\n",
    "# 2, 2016 , 6, 2019\n",
    "# \n",
    "#  [all days from feb 2016 to dec 2016, \n",
    "# .  all days for years between 2016+1 and 2019-1,\n",
    "#     all days from Jan to June 2019]\n",
    "#No of hours = 24 * No of days\n",
    "# 3 steps\n",
    "    #1. start month year to end of year - calculate no of days\n",
    "    #2. Calculate days for all years between start year and end year exclusive\n",
    "            # 2017, 2018 - 365 * no of years\n",
    "    #3. calculate days from Jan to end month year\n",
    "\n",
    "# Excluding Feb\n",
    "# First Six months - 1, 3, 4, 5, 6, 7 \n",
    "                    # All odd months have 31 days\n",
    "                    # All even months have 30 days\n",
    "# Last Six months - 8, 9, 10, 11, 12\n",
    "                    # All even months have 31 days\n",
    "                    # All odd months have 30 days\n",
    "        \n",
    "# 31 days - (month <= 7 and month % 2 != 0 and month != 2) || (month >= 8 and month %2 == 0)\n",
    "#                return 31\n",
    "#\n",
    "#            else\n",
    "#                return 30\n",
    "\n",
    "\n",
    "\n",
    "def numberOfDaysMonth(month, year):\n",
    "    if month == 2:\n",
    "        if isLeapYear(year):\n",
    "            return 29\n",
    "        return 28\n",
    "    elif (month <= 7 and month % 2!= 0) or (month >= 8 and month % 2 == 0):\n",
    "        return 31\n",
    "    else:\n",
    "        return 30\n",
    "\n",
    "def daysInStartYear(startmonth, startyear):\n",
    "    days = 0 \n",
    "    for month in range(startmonth, 13):\n",
    "        days += numberOfDaysMonth(month, startyear)\n",
    "    return days    \n",
    "\n",
    "def daysInEndYear(endmonth, endyear):\n",
    "    days = 0\n",
    "    for month in range(1, endmonth+1):\n",
    "        days += numberOfDaysMonth(month, endyear)\n",
    "    return days\n",
    "\n",
    "def numberOfHours(startmonth, startyear, endmonth, endyear):\n",
    "    days = 0\n",
    "    if startyear != endyear:\n",
    "        days += daysInStartYear(startmonth, startyear)\n",
    "        days += daysInEndYear(endmonth, endyear)\n",
    "        if endyear - startyear == 2: # 2019 - 2017\n",
    "            days += numberOfDays(startyear+1, startyear+1)\n",
    "        elif endyear - startyear > 2:\n",
    "            days += numberOfDays(startyear+1, endyear-1)\n",
    "    else:\n",
    "        for month in range(startmonth, endmonth+1):\n",
    "            days += numberOfDaysMonth(month, startyear)\n",
    "    return 24 * days\n",
    "\n",
    "numberOfHours(11, 1975, 3, 1999)"
   ]
  },
  {
   "cell_type": "code",
   "execution_count": 18,
   "metadata": {},
   "outputs": [
    {
     "name": "stdout",
     "output_type": "stream",
     "text": [
      "1 2 3 4 5 6 7 8 9 10 11 12 13 14 15 16 17 18 19 20 21 22 23 24 25 26 27 28 29 30 31 32 33 34 35 36 37 38 39 40 41 42 43 44 45 46 47 48 49 50 "
     ]
    }
   ],
   "source": [
    "# Function to print N Naturral numbers using a while loop\n",
    "\n",
    "def nNaturalNumbers(n):\n",
    "    counter = 1\n",
    "    while counter <= n:\n",
    "              print(counter, end=\" \")\n",
    "              counter = counter + 1\n",
    "    return\n",
    "nNaturalNumbers(50)  "
   ]
  },
  {
   "cell_type": "code",
   "execution_count": 68,
   "metadata": {},
   "outputs": [
    {
     "name": "stdout",
     "output_type": "stream",
     "text": [
      "102 108 114 120 126 132 138 144 150 156 162 168 174 180 186 192 198 "
     ]
    }
   ],
   "source": [
    "# Function to print all numbers divisible by 6 and not a factor of 100 in a given range(lb, ub) inclusive\n",
    "\n",
    "def divisibleBy6(lb,ub):\n",
    "    for i in range(lb, ub+1):\n",
    "        if(i%6==0 and 100 % i != 0):\n",
    "            print(i, end=\" \")\n",
    "    return\n",
    "\n",
    "divisibleBy6(100,200)"
   ]
  },
  {
   "cell_type": "code",
   "execution_count": 1,
   "metadata": {},
   "outputs": [
    {
     "data": {
      "text/plain": [
       "248744.0"
      ]
     },
     "execution_count": 1,
     "metadata": {},
     "output_type": "execute_result"
    }
   ],
   "source": [
    "# Function to find the average of cubes of all even numbers in a given range(lb, ub) inclusive\n",
    "\n",
    "def avgCubesEven(lb, ub):\n",
    "    sum = 0\n",
    "    count = 0\n",
    "    for i in range (lb, ub + 1):\n",
    "        if i % 2 == 0:\n",
    "            sum += i ** 3\n",
    "            count += 1\n",
    "    return sum/count\n",
    "\n",
    "avgCubesEven(50, 75)"
   ]
  },
  {
   "cell_type": "code",
   "execution_count": 40,
   "metadata": {},
   "outputs": [
    {
     "name": "stdout",
     "output_type": "stream",
     "text": [
      "1 2 4 7 14 28\n"
     ]
    }
   ],
   "source": [
    "# Function to generate the list of a factor for a give numbers 12 -> 1 2 3 4 6 12\n",
    "\n",
    "def factors(n):\n",
    "    for i in range(1, n//2+1):\n",
    "        if n % i == 0:\n",
    "            print(i, end=\" \")\n",
    "    print(n)\n",
    "    return\n",
    "factors(28)"
   ]
  },
  {
   "cell_type": "code",
   "execution_count": 46,
   "metadata": {},
   "outputs": [
    {
     "data": {
      "text/plain": [
       "28"
      ]
     },
     "execution_count": 46,
     "metadata": {},
     "output_type": "execute_result"
    }
   ],
   "source": [
    "# Function to generate the sum of a factor for a give numbers 12 -> 1 2 3 4 6 12 = 28\n",
    "\n",
    "def factorsSum(n):\n",
    "    sum = 0\n",
    "    for i in range(1, n//2+1):\n",
    "        if n % i == 0:\n",
    "            sum = sum + i   \n",
    "    return sum\n",
    "factorsSum(28)"
   ]
  },
  {
   "cell_type": "code",
   "execution_count": 30,
   "metadata": {},
   "outputs": [
    {
     "data": {
      "text/plain": [
       "479001600"
      ]
     },
     "execution_count": 30,
     "metadata": {},
     "output_type": "execute_result"
    }
   ],
   "source": [
    "# Function to calculate the factorial of a given number\n",
    "\n",
    "def factorialsList(n):\n",
    "    fact = 1\n",
    "    for i in range(2,n+1):\n",
    "        fact *= i\n",
    "    return fact\n",
    "factorialsList(12)"
   ]
  },
  {
   "cell_type": "code",
   "execution_count": 43,
   "metadata": {},
   "outputs": [
    {
     "name": "stdout",
     "output_type": "stream",
     "text": [
      "6 28 496 "
     ]
    }
   ],
   "source": [
    " # Function to generate all perfect numbers in a given range\n",
    "def isPerfect(n):\n",
    "    if factorsSum(n) == n:\n",
    "        return True\n",
    "    return False\n",
    "def generatePerfect(lb, ub):\n",
    "    for i in range(lb, ub+1):\n",
    "        if isPerfect(i):\n",
    "            print(i, end=\" \")\n",
    "    return\n",
    "generatePerfect(1, 500)"
   ]
  },
  {
   "cell_type": "code",
   "execution_count": 5,
   "metadata": {},
   "outputs": [
    {
     "data": {
      "text/plain": [
       "True"
      ]
     },
     "execution_count": 5,
     "metadata": {},
     "output_type": "execute_result"
    }
   ],
   "source": [
    "# Function to check if a given number if prime\n",
    "\n",
    "def isPrime(n):\n",
    "    count = 0\n",
    "    i = 0\n",
    "    while i<=n:\n",
    "        i = i + 1 \n",
    "        if(n % i == 0):\n",
    "            count = count + 1\n",
    "    if(count == 2):\n",
    "        return True\n",
    "    return False\n",
    "        \n",
    "isPrime(13)"
   ]
  },
  {
   "cell_type": "code",
   "execution_count": 15,
   "metadata": {},
   "outputs": [
    {
     "data": {
      "text/plain": [
       "12.9"
      ]
     },
     "execution_count": 15,
     "metadata": {},
     "output_type": "execute_result"
    }
   ],
   "source": [
    "# function to calculate the average first N prime numbers\n",
    "\n",
    "def avgPrime(n):\n",
    "    primeCount = 0\n",
    "    sum = 0\n",
    "    seqCount = 2\n",
    "    while(primeCount < n):\n",
    "        if isPrime(seqCount):\n",
    "            primeCount += 1\n",
    "            sum += seqCount\n",
    "        seqCount += 1\n",
    "    return sum/n\n",
    "\n",
    "avgPrime(10)"
   ]
  },
  {
   "cell_type": "code",
   "execution_count": 14,
   "metadata": {},
   "outputs": [
    {
     "data": {
      "text/plain": [
       "120"
      ]
     },
     "execution_count": 14,
     "metadata": {},
     "output_type": "execute_result"
    }
   ],
   "source": [
    "# Function to calculate factorial of a number\n",
    "def factorial(n):\n",
    "    i = 1\n",
    "    while n != 0:\n",
    "        i = i * n\n",
    "        n = n-1\n",
    "    return i\n",
    "\n",
    "factorial(5)\n",
    "    \n"
   ]
  },
  {
   "cell_type": "code",
   "execution_count": 15,
   "metadata": {},
   "outputs": [
    {
     "data": {
      "text/plain": [
       "8.25"
      ]
     },
     "execution_count": 15,
     "metadata": {},
     "output_type": "execute_result"
    }
   ],
   "source": [
    "# Function to calculate average of all factorials in a given range\n",
    "\n",
    "def avgFactorials(lb, ub):\n",
    "    sum = 0\n",
    "    count = 0\n",
    "    for n in range(lb, ub+1):\n",
    "        sum = sum + factorial(n)\n",
    "        count = count + 1\n",
    "    return sum/count\n",
    "avgFactorials(1, 4)\n",
    "            \n",
    "        "
   ]
  },
  {
   "cell_type": "code",
   "execution_count": 21,
   "metadata": {},
   "outputs": [
    {
     "data": {
      "text/plain": [
       "0.018518518518518517"
      ]
     },
     "execution_count": 21,
     "metadata": {},
     "output_type": "execute_result"
    }
   ],
   "source": [
    "# Function to generate N odd armstrong numbers \n",
    "\n",
    "def nArmStrong(lb, ub):\n",
    "    sum = 0\n",
    "    count = 0\n",
    "    avg = 0\n",
    "    for n in range(lb, ub+1):\n",
    "        sum = sum + isArmStrong(n)\n",
    "        count = count + 1\n",
    "        avg = sum/count\n",
    "        if isOdd(avg):\n",
    "            return avg\n",
    "nArmStrong(100, 200)"
   ]
  },
  {
   "cell_type": "code",
   "execution_count": 5,
   "metadata": {},
   "outputs": [
    {
     "data": {
      "text/plain": [
       "True"
      ]
     },
     "execution_count": 5,
     "metadata": {},
     "output_type": "execute_result"
    }
   ],
   "source": [
    "# armstrong number or not\n",
    "\n",
    "def isArmStrong(n):\n",
    "    sum=0\n",
    "    res=n\n",
    "    while(res!= 0):\n",
    "        r=res\n",
    "        r=r%10\n",
    "        sum=sum+r**3\n",
    "        res=res//10\n",
    "    if n==sum:\n",
    "        return True\n",
    "    return False\n",
    "isArmStrong(153)       "
   ]
  },
  {
   "cell_type": "code",
   "execution_count": 20,
   "metadata": {},
   "outputs": [
    {
     "data": {
      "text/plain": [
       "True"
      ]
     },
     "execution_count": 20,
     "metadata": {},
     "output_type": "execute_result"
    }
   ],
   "source": [
    "# Odd Number\n",
    "def isOdd(n):\n",
    "        if(n % 2 != 0):\n",
    "            return True\n",
    "        return False\n",
    "isOdd(5)"
   ]
  },
  {
   "cell_type": "code",
   "execution_count": 40,
   "metadata": {},
   "outputs": [
    {
     "name": "stdout",
     "output_type": "stream",
     "text": [
      "10 * 100 = 1000\n",
      "10 * 100 = 1010\n",
      "10 * 100 = 1020\n"
     ]
    }
   ],
   "source": [
    "# Function to generate Multiplication table for a number in a given range\n",
    "# 10 in the range(100, 102) inclusive\n",
    "# 10 x 100 = 1000\n",
    "# 10 x 101 = 1010\n",
    "# 10 x 102 = 1020\n",
    "\n",
    "def multiplicationTable(lb, ub, n):\n",
    "    for i in range(lb, ub+1):\n",
    "        m = 0\n",
    "        m = n * i\n",
    "        i = i + 1\n",
    "        print (n, \"*\", lb, \"=\", m)\n",
    "multiplicationTable(100, 102, 10)"
   ]
  },
  {
   "cell_type": "code",
   "execution_count": null,
   "metadata": {},
   "outputs": [],
   "source": []
  },
  {
   "cell_type": "code",
   "execution_count": null,
   "metadata": {},
   "outputs": [],
   "source": []
  },
  {
   "cell_type": "code",
   "execution_count": null,
   "metadata": {},
   "outputs": [],
   "source": []
  }
 ],
 "metadata": {
  "kernelspec": {
   "display_name": "Python 3",
   "language": "python",
   "name": "python3"
  },
  "language_info": {
   "codemirror_mode": {
    "name": "ipython",
    "version": 3
   },
   "file_extension": ".py",
   "mimetype": "text/x-python",
   "name": "python",
   "nbconvert_exporter": "python",
   "pygments_lexer": "ipython3",
   "version": "3.7.3"
  }
 },
 "nbformat": 4,
 "nbformat_minor": 2
}
