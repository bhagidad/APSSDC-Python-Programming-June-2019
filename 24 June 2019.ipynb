{
 "cells": [
  {
   "cell_type": "code",
   "execution_count": 5,
   "metadata": {},
   "outputs": [
    {
     "name": "stdout",
     "output_type": "stream",
     "text": [
      "180\n",
      "1\n",
      "400 400\n",
      "ACCEPTED\n"
     ]
    }
   ],
   "source": [
    "# Uploading a photo in FB\n",
    "\n",
    "def uploadPhotoInFb(L,N):\n",
    "        if (W < L or H < L):\n",
    "            print(\"UPLOAD ANOTHER\")\n",
    "        elif(W == H):\n",
    "            print(\"ACCEPTED\")\n",
    "        else:\n",
    "            print(\"CROP IT\")\n",
    "    \n",
    "    \n",
    "    \n",
    "L = int(input())\n",
    "N = int(input())\n",
    "for i in range (0,N):\n",
    "    S = input().split()\n",
    "    W = int(S[0])\n",
    "    H = int(S[1])\n",
    "    uploadPhotoInFb(L,N)"
   ]
  },
  {
   "cell_type": "code",
   "execution_count": 1,
   "metadata": {},
   "outputs": [],
   "source": [
    "# Contact Application\n",
    "    # Add, Search, List, Modify Delete Contacts\n",
    "    \n",
    "# Find and Replace Application\n",
    "    # Count the total number of occurances of a word\n",
    "    # If Word is existing\n",
    "    # Replace all occurances of a word with another word\n",
    "    \n",
    "# Marks Analysis Application\n",
    "    # Generate the marks file for n students\n",
    "    # Input : Marks text file - each line contains \n",
    "    # Generates a report with the following information\n",
    "        # Class Average\n",
    "        # % of students Passed\n",
    "        # % of students Failed\n",
    "        # % of students with Distincion\n",
    "        # Highest Mark Frequency\n",
    "        # Lowest Mark Frequency\n",
    "    "
   ]
  },
  {
   "cell_type": "code",
   "execution_count": 18,
   "metadata": {},
   "outputs": [],
   "source": [
    "# Function to generate marks data for n students\n",
    "from random import randint\n",
    "def generateMarks(n, lb, ub):\n",
    "    with open('DataFiles/marks.txt','w') as f:\n",
    "        for i in range(0, n):\n",
    "            r = randint(lb, ub)\n",
    "            f.write(str(r) + '\\n')\n",
    "    return \n",
    "\n",
    "generateMarks(50, 0, 100)    "
   ]
  },
  {
   "cell_type": "code",
   "execution_count": 19,
   "metadata": {},
   "outputs": [
    {
     "name": "stdout",
     "output_type": "stream",
     "text": [
      "Class Average Marks is : 60.78\n"
     ]
    }
   ],
   "source": [
    "# Class Average Marks\n",
    "def classAverageMarks():\n",
    "    count = 0\n",
    "    sum = 0\n",
    "    with open('DataFiles/marks.txt','r') as f:\n",
    "        for lines in f.readlines():\n",
    "            count = count + 1\n",
    "            sum = sum +int(lines)\n",
    "        print(\"Class Average Marks is\",':',sum / count)\n",
    "classAverageMarks()\n",
    "            \n",
    "            "
   ]
  },
  {
   "cell_type": "code",
   "execution_count": 20,
   "metadata": {},
   "outputs": [
    {
     "name": "stdout",
     "output_type": "stream",
     "text": [
      "Class Passed Percentage is : 12.95\n"
     ]
    }
   ],
   "source": [
    "# Class Passed Percentage\n",
    "def passedPercentage():\n",
    "    count = 0\n",
    "    with open('DataFiles/marks.txt','r') as f:\n",
    "        for lines in f.readlines():\n",
    "            if(int(lines) > 35):\n",
    "                count =count + 1\n",
    "        #print(count)\n",
    "        print(\"Class Passed Percentage is\",':',35 * count / 100)\n",
    "passedPercentage()  "
   ]
  },
  {
   "cell_type": "code",
   "execution_count": 21,
   "metadata": {},
   "outputs": [
    {
     "name": "stdout",
     "output_type": "stream",
     "text": [
      "Class Failed Percentage is : 4.55\n"
     ]
    }
   ],
   "source": [
    "# Class Filed Percentage\n",
    "def failedPercentage():\n",
    "    count = 0\n",
    "    with open('DataFiles/marks.txt','r') as f:\n",
    "        for lines in f.readlines():\n",
    "            if(int(lines) < 35):\n",
    "                count = count + 1\n",
    "        #print(count)\n",
    "        print(\"Class Failed Percentage is\",':',35 * count / 100)\n",
    "    \n",
    "failedPercentage()        "
   ]
  },
  {
   "cell_type": "code",
   "execution_count": 22,
   "metadata": {},
   "outputs": [
    {
     "name": "stdout",
     "output_type": "stream",
     "text": [
      "Class Distinction Percentage is : 17.25\n"
     ]
    }
   ],
   "source": [
    "# Class Distinction Percentage\n",
    "def distinctionPercentage():\n",
    "    count = 0\n",
    "    with open('DataFiles/marks.txt','r') as f:\n",
    "        for lines in f.readlines():\n",
    "            if(int(lines)>=75):\n",
    "                count = count + 1\n",
    "        #print(count)\n",
    "        print(\"Class Distinction Percentage is\",':',75 * count / 100)\n",
    "distinctionPercentage()"
   ]
  },
  {
   "cell_type": "code",
   "execution_count": 23,
   "metadata": {},
   "outputs": [
    {
     "name": "stdout",
     "output_type": "stream",
     "text": [
      "Class Highest Frequency is - 98 : 1\n"
     ]
    }
   ],
   "source": [
    "# Class Highest Marks Frequency\n",
    "def highestMarksFrequency():\n",
    "    count = 0\n",
    "    with open('DataFiles/marks.txt','r') as f:\n",
    "        fhighest = f.read()\n",
    "        for lines in fhighest.split():\n",
    "            if (lines == max(fhighest.split())):\n",
    "                count = count + 1\n",
    "    print(\"Class Highest Frequency is\",'-',max(fhighest.split()),':',count)\n",
    "highestMarksFrequency()        "
   ]
  },
  {
   "cell_type": "code",
   "execution_count": 24,
   "metadata": {},
   "outputs": [
    {
     "name": "stdout",
     "output_type": "stream",
     "text": [
      "Class Lowest Frequency is - 1 : 2\n"
     ]
    }
   ],
   "source": [
    "# Class Lowest Marks Frequency\n",
    "def lowestMarksFrequency():\n",
    "    count = 0\n",
    "    with open('DataFiles/marks.txt','r') as f:\n",
    "        flowest = f.read()\n",
    "        for lines in flowest.split():\n",
    "            if (lines == min(flowest.split())):\n",
    "                count = count + 1\n",
    "    print(\"Class Lowest Frequency is\",'-',min(flowest.split()),':',count)\n",
    "lowestMarksFrequency()        "
   ]
  },
  {
   "cell_type": "code",
   "execution_count": 31,
   "metadata": {},
   "outputs": [
    {
     "name": "stdout",
     "output_type": "stream",
     "text": [
      "Class Status is :-\n",
      "Class Average Marks is : 60.78\n",
      "Class Passed Percentage is : 12.95\n",
      "Class Failed Percentage is : 4.55\n",
      "Class Distinction Percentage is : 17.25\n",
      "Class Highest Frequency is - 98 : 1\n",
      "Class Lowest Frequency is - 1 : 2\n"
     ]
    }
   ],
   "source": [
    "# Class Status\n",
    "def classStatus():\n",
    "    print(\"Class Status is\",':-')\n",
    "classStatus()\n",
    "classAverageMarks()\n",
    "passedPercentage()\n",
    "failedPercentage()\n",
    "distinctionPercentage()\n",
    "highestMarksFrequency()\n",
    "lowestMarksFrequency()"
   ]
  },
  {
   "cell_type": "code",
   "execution_count": null,
   "metadata": {},
   "outputs": [],
   "source": []
  },
  {
   "cell_type": "code",
   "execution_count": null,
   "metadata": {},
   "outputs": [],
   "source": []
  },
  {
   "cell_type": "code",
   "execution_count": null,
   "metadata": {},
   "outputs": [],
   "source": []
  },
  {
   "cell_type": "code",
   "execution_count": 8,
   "metadata": {},
   "outputs": [
    {
     "name": "stdout",
     "output_type": "stream",
     "text": [
      "0\n"
     ]
    }
   ],
   "source": [
    "# Sum of Digits... 123 -> 1 + 2 + 3\n",
    "def sumOfDigits(n):\n",
    "    r = 0\n",
    "    r1 = 0\n",
    "    while(n > 0):\n",
    "        r = n % 10   # 123 % 10 = 3\n",
    "        n = n // 10\n",
    "        r1 = r1 + r\n",
    "    print (r1)\n",
    "        \n",
    "sumOfDigits(12345)"
   ]
  },
  {
   "cell_type": "code",
   "execution_count": 11,
   "metadata": {},
   "outputs": [
    {
     "name": "stdout",
     "output_type": "stream",
     "text": [
      "111223334455hgfr\n",
      "0 3 2 3 2 2 0 0 0 0 "
     ]
    }
   ],
   "source": [
    "# Digit Frequency\n",
    "\n",
    "string = input()\n",
    "for digit in range(0,10):\n",
    "    print(string.count(str(digit)),end = \" \")"
   ]
  },
  {
   "cell_type": "code",
   "execution_count": 2,
   "metadata": {},
   "outputs": [
    {
     "name": "stdout",
     "output_type": "stream",
     "text": [
      "15\n"
     ]
    }
   ],
   "source": [
    "# Sum of Digits... 123 -> 1 + 2 + 3\n",
    "def sumOfDigits(n):\n",
    "    r = 0\n",
    "    r1 = 0\n",
    "    for i in range(0,n):\n",
    "        r = n % 10   # 123 % 10 = 3\n",
    "        n = n // 10\n",
    "        r1 = r1 + r\n",
    "    print (r1)\n",
    "        \n",
    "sumOfDigits(12345)"
   ]
  },
  {
   "cell_type": "code",
   "execution_count": null,
   "metadata": {},
   "outputs": [],
   "source": []
  },
  {
   "cell_type": "code",
   "execution_count": null,
   "metadata": {},
   "outputs": [],
   "source": []
  },
  {
   "cell_type": "code",
   "execution_count": null,
   "metadata": {},
   "outputs": [],
   "source": []
  }
 ],
 "metadata": {
  "kernelspec": {
   "display_name": "Python 3",
   "language": "python",
   "name": "python3"
  },
  "language_info": {
   "codemirror_mode": {
    "name": "ipython",
    "version": 3
   },
   "file_extension": ".py",
   "mimetype": "text/x-python",
   "name": "python",
   "nbconvert_exporter": "python",
   "pygments_lexer": "ipython3",
   "version": "3.7.3"
  }
 },
 "nbformat": 4,
 "nbformat_minor": 2
}
