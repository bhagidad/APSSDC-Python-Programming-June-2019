{
 "cells": [
  {
   "cell_type": "code",
   "execution_count": 14,
   "metadata": {},
   "outputs": [
    {
     "data": {
      "text/plain": [
       "'abc'"
      ]
     },
     "execution_count": 14,
     "metadata": {},
     "output_type": "execute_result"
    }
   ],
   "source": [
    "# Function to Toggle string character\n",
    "\n",
    "s = \"A\"\n",
    "s.isupper()\n",
    "\n",
    "s = \"Abc\"\n",
    "s.isupper() # Check the character case \n",
    "\n",
    "s = \"A\"\n",
    "s.islower()\n",
    "\n",
    "s = \"a\"\n",
    "s.islower()\n",
    "\n",
    "s =\"abc\"\n",
    "s.lower()   # upper to lower\n",
    "s.upper()  # Convert the character from lower case to upper case\n",
    "s.split()\n",
    "list(s)\n",
    "#s.split(\"\")\n",
    "\n",
    "s = list(s)\n",
    "\"\".join(s)"
   ]
  },
  {
   "cell_type": "code",
   "execution_count": 3,
   "metadata": {},
   "outputs": [
    {
     "data": {
      "text/plain": [
       "'a B C'"
      ]
     },
     "execution_count": 3,
     "metadata": {},
     "output_type": "execute_result"
    }
   ],
   "source": [
    "# Function to Toggle string character\n",
    "\n",
    "def toggleString(s):\n",
    "    # Convert the string into a list of characters\n",
    "    #s = list(s)\n",
    "    t =[]\n",
    "    for c in s:\n",
    "        if c.islower():\n",
    "            t.append(c.upper())\n",
    "        else:\n",
    "            t.append(c.lower())\n",
    "    return \" \".join(t)\n",
    "toggleString(\"Abc\")\n",
    "            "
   ]
  },
  {
   "cell_type": "code",
   "execution_count": 1,
   "metadata": {},
   "outputs": [
    {
     "data": {
      "text/plain": [
       "'aBC'"
      ]
     },
     "execution_count": 1,
     "metadata": {},
     "output_type": "execute_result"
    }
   ],
   "source": [
    "# Function to Toggle string character\n",
    "\n",
    "def toggleString(s):\n",
    "    # Convert the string into a list of characters\n",
    "    #s = list(s)\n",
    "    t =\"\"\n",
    "    for c in s:\n",
    "        if c.islower():\n",
    "            t+=c.upper()\n",
    "        else:\n",
    "            t+=c.lower()\n",
    "    return t\n",
    "toggleString(\"Abc\")\n",
    "            "
   ]
  },
  {
   "cell_type": "markdown",
   "metadata": {},
   "source": [
    "#### Duration\n",
    "\n",
    "Input: start time, end time (HH, MM)\n",
    "\n",
    "    HH - {00, 01, 01, 03, .. 23}\n",
    "    MM - {00, 01, 01, 03, .. 59}\n",
    "    HH MM - {{00 00, 23 59}\n",
    "             \n",
    "             \n",
    "Output: time difference in HH MM"
   ]
  },
  {
   "cell_type": "code",
   "execution_count": 9,
   "metadata": {},
   "outputs": [
    {
     "name": "stdout",
     "output_type": "stream",
     "text": [
      "0 30\n"
     ]
    }
   ],
   "source": [
    "# Calculate the time difference as total number of minutes\n",
    "# Convert the total minutes into hours\n",
    "s = \"1 44 2 14\"\n",
    "def minutesDifference(s):\n",
    "    s = s.split()\n",
    "    sh = int (s[0])\n",
    "    sm = int (s[1])\n",
    "    eh = int (s[2])\n",
    "    em = int (s[3])\n",
    "    startminutes = (sh * 60) + sm\n",
    "    endminutes = (eh * 60) + em\n",
    "    return endminutes - startminutes\n",
    "def outputTimeFormat(minutes):\n",
    "    # Covert minutes to HH MM\n",
    "    hh = minutes // 60\n",
    "    mm = minutes % 60\n",
    "    print (hh, mm)\n",
    "    return\n",
    "minutes = minutesDifference(s)\n",
    "outputTimeFormat(minutes)"
   ]
  },
  {
   "cell_type": "markdown",
   "metadata": {},
   "source": [
    "### Play with Numbers\n",
    "\n",
    "line 1 : array size(n), no of queries(q)\n",
    "line 2: n array elements\n",
    "next q lines : query - sub array of original array"
   ]
  },
  {
   "cell_type": "code",
   "execution_count": null,
   "metadata": {},
   "outputs": [],
   "source": []
  },
  {
   "cell_type": "code",
   "execution_count": 14,
   "metadata": {},
   "outputs": [
    {
     "name": "stdout",
     "output_type": "stream",
     "text": [
      "Yes\n"
     ]
    }
   ],
   "source": [
    "def numbersDivisior(n): # number of divisiors -> 6 = 1 + 2 + 3 = 6\n",
    "    sum = 0\n",
    "    for i in range(1,n):\n",
    "        if(n % i == 0):\n",
    "            sum = sum + i\n",
    "    if(sum == n):\n",
    "        print (\"Yes\")\n",
    "    else:\n",
    "        print(\"No\")\n",
    "numbersDivisior(6)"
   ]
  },
  {
   "cell_type": "code",
   "execution_count": 8,
   "metadata": {},
   "outputs": [
    {
     "name": "stdout",
     "output_type": "stream",
     "text": [
      "5\n"
     ]
    }
   ],
   "source": [
    "def greatestReminder(n):  # greatest remainder\n",
    "    count = 0\n",
    "    for i in range(1,n+1):\n",
    "        if(n % i != 0 and n // i == 1):\n",
    "            count = count + 1\n",
    "        if(count == 1):\n",
    "            print(i)\n",
    "greatestReminder(9)"
   ]
  },
  {
   "cell_type": "code",
   "execution_count": 10,
   "metadata": {},
   "outputs": [
    {
     "name": "stdout",
     "output_type": "stream",
     "text": [
      "\"az$123\"\n",
      "2 3"
     ]
    }
   ],
   "source": [
    "def countOfDigitsAndNumbers(s):   # number of alphabets and number of digits\n",
    "    count = 0\n",
    "    count1 = 0\n",
    "    for i in range(0,len(s)):\n",
    "        if s[i].isdigit():\n",
    "            count = count + 1\n",
    "        if s[i].isalpha():\n",
    "            count1 = count1 + 1\n",
    "    print(count1, count, end = \"\")\n",
    "s = input()\n",
    "countOfDigitsAndNumbers(s)"
   ]
  },
  {
   "cell_type": "code",
   "execution_count": null,
   "metadata": {},
   "outputs": [],
   "source": [
    "def primeFactors()"
   ]
  },
  {
   "cell_type": "code",
   "execution_count": 4,
   "metadata": {},
   "outputs": [
    {
     "data": {
      "text/plain": [
       "True"
      ]
     },
     "execution_count": 4,
     "metadata": {},
     "output_type": "execute_result"
    }
   ],
   "source": [
    "def isPrime(N):\n",
    "    count = 0\n",
    "    i = 1\n",
    "    for i in range(1, N+1, 1):\n",
    "        if(N % i == 0):\n",
    "            count = count + 1\n",
    "    if(count == 2):\n",
    "        return True\n",
    "    return False\n",
    "isPrime(7)"
   ]
  },
  {
   "cell_type": "code",
   "execution_count": null,
   "metadata": {},
   "outputs": [],
   "source": []
  }
 ],
 "metadata": {
  "kernelspec": {
   "display_name": "Python 3",
   "language": "python",
   "name": "python3"
  },
  "language_info": {
   "codemirror_mode": {
    "name": "ipython",
    "version": 3
   },
   "file_extension": ".py",
   "mimetype": "text/x-python",
   "name": "python",
   "nbconvert_exporter": "python",
   "pygments_lexer": "ipython3",
   "version": "3.7.3"
  }
 },
 "nbformat": 4,
 "nbformat_minor": 2
}
