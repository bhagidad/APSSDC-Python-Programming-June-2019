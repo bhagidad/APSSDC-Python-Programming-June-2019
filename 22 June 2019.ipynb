{
 "cells": [
  {
   "cell_type": "code",
   "execution_count": null,
   "metadata": {},
   "outputs": [],
   "source": [
    "### Files"
   ]
  },
  {
   "cell_type": "code",
   "execution_count": 2,
   "metadata": {},
   "outputs": [],
   "source": [
    "fh = open(\"book.txt\",'w')\n",
    "data = \"Hiii to all\"\n",
    "fh.write(data)\n",
    "fh.close()"
   ]
  },
  {
   "cell_type": "code",
   "execution_count": 6,
   "metadata": {},
   "outputs": [
    {
     "name": "stdout",
     "output_type": "stream",
     "text": [
      "Hiii to all\n"
     ]
    }
   ],
   "source": [
    "fh = open(\"book.txt\",'r')\n",
    "print(fh.read())\n",
    "fh.close()"
   ]
  },
  {
   "cell_type": "code",
   "execution_count": null,
   "metadata": {},
   "outputs": [],
   "source": []
  },
  {
   "cell_type": "markdown",
   "metadata": {},
   "source": [
    "### Date : 22 June 2019\n",
    "\n",
    "#### Day Objectives :\n",
    "- File Handling\n",
    "    - Basic File Data Processing\n",
    "        - Accessing and Modifying File Data\n",
    "    - Character Count\n",
    "    - Line Count\n",
    "    - File Size\n",
    "    - Word count\n",
    "    - Unique Word Count"
   ]
  },
  {
   "cell_type": "code",
   "execution_count": 12,
   "metadata": {},
   "outputs": [
    {
     "name": "stdout",
     "output_type": "stream",
     "text": [
      "<class '_io.TextIOWrapper'>\n"
     ]
    }
   ],
   "source": [
    "# Read a File - File Should Exist(Read Mode)\n",
    "# Write to a File - Existing(append) or New File(write)\n",
    "\n",
    "def readFile(FilePath):\n",
    "    with open(FilePath, 'r') as f:\n",
    "        print(type(f))\n",
    "    return \n",
    "FilePath = 'DataFiles/data.txt'\n",
    "readFile(FilePath)\n",
    "        "
   ]
  },
  {
   "cell_type": "code",
   "execution_count": 14,
   "metadata": {},
   "outputs": [
    {
     "name": "stdout",
     "output_type": "stream",
     "text": [
      "new data\n",
      "Line2\n",
      "Line3\n",
      "Line4\n",
      "Line5\n"
     ]
    }
   ],
   "source": [
    "def readFile(FilePath):\n",
    "    with open(FilePath, 'r') as f:\n",
    "        Filedata = f.read()\n",
    "    return Filedata\n",
    "FilePath = 'DataFiles/data.txt'\n",
    "print(readFile(FilePath))\n",
    "        "
   ]
  },
  {
   "cell_type": "code",
   "execution_count": 35,
   "metadata": {},
   "outputs": [
    {
     "name": "stdout",
     "output_type": "stream",
     "text": [
      "44\n"
     ]
    }
   ],
   "source": [
    "# Character Count\n",
    "\n",
    "def characterCount(FilePath):\n",
    "    count = 0\n",
    "    with open(FilePath, 'r') as f:\n",
    "        Filedata = f.read()\n",
    "        for i in Filedata:\n",
    "            count = count + 1\n",
    "    print(count)\n",
    "FilePath = 'DataFiles/data.txt'\n",
    "characterCount(FilePath)"
   ]
  },
  {
   "cell_type": "code",
   "execution_count": 32,
   "metadata": {},
   "outputs": [
    {
     "name": "stdout",
     "output_type": "stream",
     "text": [
      "5\n"
     ]
    }
   ],
   "source": [
    "# Number of Lines\n",
    "\n",
    "def lineCount(FilePath):\n",
    "    count = 1\n",
    "    with open(FilePath, 'r') as f:\n",
    "        Filedata = f.read()\n",
    "        for i in Filedata:\n",
    "            if(i == '\\n'):\n",
    "                count = count + 1\n",
    "        print(count)\n",
    "FilePath = 'DataFiles/data.txt'\n",
    "lineCount(FilePath)"
   ]
  },
  {
   "cell_type": "code",
   "execution_count": 17,
   "metadata": {},
   "outputs": [
    {
     "name": "stdout",
     "output_type": "stream",
     "text": [
      "32\n"
     ]
    }
   ],
   "source": [
    "# File Size\n",
    "import os\n",
    "FilePath = 'DataFiles/data.txt'\n",
    "def fileSize(FilePath):\n",
    "    with open(FilePath, 'r') as f:\n",
    "        Filedata = f.read()\n",
    "        for i in Filedata:\n",
    "            i = os.path.getsize(FilePath)\n",
    "    print(i)\n",
    "fileSize(FilePath)"
   ]
  },
  {
   "cell_type": "code",
   "execution_count": 30,
   "metadata": {},
   "outputs": [
    {
     "name": "stdout",
     "output_type": "stream",
     "text": [
      "8\n"
     ]
    }
   ],
   "source": [
    "# Word Count\n",
    "\n",
    "def wordCount(FilePath):\n",
    "    count = 1\n",
    "    with open(FilePath, 'r') as f:\n",
    "        Filedata = f.read()\n",
    "        for i in Filedata:\n",
    "            if(i == \" \" or i == '\\n'):\n",
    "                count = count + 1\n",
    "        print(count)\n",
    "FilePath = 'DataFiles/data.txt'\n",
    "wordCount(FilePath)"
   ]
  },
  {
   "cell_type": "code",
   "execution_count": 29,
   "metadata": {},
   "outputs": [
    {
     "name": "stdout",
     "output_type": "stream",
     "text": [
      "{'new': 1, 'data': 1, 'Line2': 1, 'Line3': 1, 'Line4': 1, 'Line5': 3}\n"
     ]
    }
   ],
   "source": [
    "# Frequency Word Count\n",
    "FilePath = 'DataFiles/data.txt'\n",
    "def uniqueWordCount(FilePath):\n",
    "    count ={}\n",
    "    with open(FilePath, 'r') as f:\n",
    "        Filedata = f.read()\n",
    "        li = Filedata.split()\n",
    "        for i in li:\n",
    "            if i in count:\n",
    "                count[i]= count[i] + 1\n",
    "            else:\n",
    "                count[i] = 1\n",
    "    print(count)\n",
    "uniqueWordCount(FilePath)    "
   ]
  },
  {
   "cell_type": "code",
   "execution_count": null,
   "metadata": {},
   "outputs": [],
   "source": []
  }
 ],
 "metadata": {
  "kernelspec": {
   "display_name": "Python 3",
   "language": "python",
   "name": "python3"
  },
  "language_info": {
   "codemirror_mode": {
    "name": "ipython",
    "version": 3
   },
   "file_extension": ".py",
   "mimetype": "text/x-python",
   "name": "python",
   "nbconvert_exporter": "python",
   "pygments_lexer": "ipython3",
   "version": "3.7.3"
  }
 },
 "nbformat": 4,
 "nbformat_minor": 2
}
