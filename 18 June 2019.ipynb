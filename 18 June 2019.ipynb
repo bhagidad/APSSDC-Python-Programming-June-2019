{
 "cells": [
  {
   "cell_type": "code",
   "execution_count": 1,
   "metadata": {},
   "outputs": [
    {
     "name": "stdout",
     "output_type": "stream",
     "text": [
      "5 3\n",
      "1 2 3 4 5\n",
      "1 3\n",
      "2\n",
      "2 4\n",
      "3\n",
      "2 5\n",
      "3\n"
     ]
    }
   ],
   "source": [
    "# read number of array elements and number of queries\n",
    "n = input().split()\n",
    "n[0], n[1] = int(n[0]), int(n[1])\n",
    "# read array elements\n",
    "a = input().split()\n",
    "\n",
    "sum = [] # Intialize sum array\n",
    "\n",
    "# Cumulative sum\n",
    "for i in range(0,n[0]):\n",
    "    if i == 0:\n",
    "        sum.append (int(a[i]))\n",
    "    else:\n",
    "         sum.append(int(sum[i - 1]) + int(a[i])) # first element\n",
    "del a\n",
    "# Read each query and calculate the average\n",
    "for i in range(0,n[1]):\n",
    "    inq = input().split()\n",
    "    i = int(inq[0])\n",
    "    j = int(inq[1])\n",
    "    if (i > 1):\n",
    "        print((sum[j-1] - sum[i-2]) // (j-i+1))\n",
    "    else:\n",
    "        print(sum[j-1] // (j-i+1))\n"
   ]
  },
  {
   "cell_type": "markdown",
   "metadata": {},
   "source": []
  },
  {
   "cell_type": "code",
   "execution_count": 1,
   "metadata": {},
   "outputs": [
    {
     "name": "stdout",
     "output_type": "stream",
     "text": [
      "2\n",
      "3\n",
      "6\n",
      "YES\n",
      "3\n",
      "NO\n",
      "8\n",
      "NO\n"
     ]
    }
   ],
   "source": [
    "# Special Number\n",
    "\n",
    "# Function to determine if a number is special\n",
    "def isSpecialNumber(n, p):\n",
    "    if(numberOfPrimeFactors(n) >= p):\n",
    "        return True\n",
    "    return False\n",
    "    \n",
    "\n",
    "# Function to check if number is prime\n",
    "def isPrime(n):\n",
    "    flag = 1\n",
    "    if n == 2:\n",
    "        return True\n",
    "    for i in range(2,n//2+1):\n",
    "        if n % i == 0:\n",
    "            flag = 0\n",
    "            return False \n",
    "    if flag == 1:\n",
    "        return True\n",
    "    \n",
    "# Function to determine number of prime factors for a given number\n",
    "def numberOfPrimeFactors(n):\n",
    "    if isPrime(n):\n",
    "        return 1\n",
    "    count = 0\n",
    "    for i in range(2,n//2+1):\n",
    "        if(isPrime(i) and n % i == 0):\n",
    "            count = count + 1\n",
    "    return count\n",
    "\n",
    "def solution2():\n",
    "    p = int(input())\n",
    "    t = int(input())\n",
    "    for i in range(0, t):\n",
    "        n = int(input())\n",
    "        if isSpecialNumber(n,p):\n",
    "            print(\"YES\")\n",
    "        else:\n",
    "            print(\"NO\")\n",
    "        \n",
    "solution2()"
   ]
  },
  {
   "cell_type": "markdown",
   "metadata": {},
   "source": []
  },
  {
   "cell_type": "code",
   "execution_count": 5,
   "metadata": {},
   "outputs": [
    {
     "name": "stdout",
     "output_type": "stream",
     "text": [
      "3\n"
     ]
    }
   ],
   "source": [
    "# Highest Remainder\n",
    "\n",
    "def highestRemainder(n):\n",
    "    hr = 0\n",
    "    v = n\n",
    "    for i in range(n-1, n//2, -1):\n",
    "        r = n % i\n",
    "        if r > hr:\n",
    "            hr = r\n",
    "            v = i\n",
    "    print(v)\n",
    "highestRemainder(5)\n",
    "        "
   ]
  },
  {
   "cell_type": "code",
   "execution_count": null,
   "metadata": {},
   "outputs": [],
   "source": []
  },
  {
   "cell_type": "markdown",
   "metadata": {},
   "source": [
    "### Tuples\n",
    "t1 = ()\n",
    "li = []\n",
    "\n",
    "\n",
    "Difference between Lists and Tuples\n",
    "\n",
    "lists are mutable - can be changed or modified\n",
    "- Used to Access, Modify, Add, Delete data\n",
    "\n",
    "Tuples are immutable - cannot be changed or initialised\n",
    "- Used to access data only\n",
    "- All Slicing work\n"
   ]
  },
  {
   "cell_type": "code",
   "execution_count": 16,
   "metadata": {},
   "outputs": [
    {
     "data": {
      "text/plain": [
       "(3, 4, 5)"
      ]
     },
     "execution_count": 16,
     "metadata": {},
     "output_type": "execute_result"
    }
   ],
   "source": [
    "t1 = (1, 2, 3, 4, 5)\n",
    "\n",
    "t1[3]  # Accessing the fourth element\n",
    "\n",
    "t1[len(t1)//2:]# Access all elements from middle to last"
   ]
  },
  {
   "cell_type": "code",
   "execution_count": 20,
   "metadata": {},
   "outputs": [
    {
     "data": {
      "text/plain": [
       "tuple"
      ]
     },
     "execution_count": 20,
     "metadata": {},
     "output_type": "execute_result"
    }
   ],
   "source": [
    "type(t1)"
   ]
  },
  {
   "cell_type": "code",
   "execution_count": null,
   "metadata": {},
   "outputs": [],
   "source": []
  },
  {
   "cell_type": "markdown",
   "metadata": {},
   "source": [
    "### Dictionaries\n",
    "\n",
    "It works on the concept of Set\n",
    "Unique data(No Repetition)(Advantage of Dictionaries)\n",
    "\n",
    "Keys, Values\n",
    "Key is the Unique identifier for a value\n",
    "Value is data that can be accessed with a Key\n",
    "\n",
    "\n"
   ]
  },
  {
   "cell_type": "code",
   "execution_count": 30,
   "metadata": {},
   "outputs": [
    {
     "data": {
      "text/plain": [
       "True"
      ]
     },
     "execution_count": 30,
     "metadata": {},
     "output_type": "execute_result"
    }
   ],
   "source": [
    "d1 = {\"k1\":\"value1\", \"k2\":\"value2\"}\n",
    "\n",
    "d1[\"k2\"] # Accessing the value with keys \"k2\"\n",
    "d1.keys() # returns list of all keys\n",
    "d1.values() # returns list of all values\n",
    "d1.items() # returns list of tuple of keys and values\n",
    "d1[\"k3\"] = \"value3\"  # Adding an element to the Dictionary\n",
    "d1[\"k3\"] = \"value4\" # Updating an element \n",
    "d1.pop(\"k3\") # Removing an element\n",
    "\"k1\" in d1"
   ]
  },
  {
   "cell_type": "markdown",
   "metadata": {},
   "source": [
    "### Contacts Application\n",
    "- Add Contact\n",
    "- Search for contact\n",
    "- List all contacts\n",
    "    - name1 : phone1\n",
    "    - name2 : phone2\n",
    "- Modify contacts\n",
    "- Remove contacts\n",
    "- Import contacts"
   ]
  },
  {
   "cell_type": "code",
   "execution_count": 9,
   "metadata": {},
   "outputs": [
    {
     "name": "stdout",
     "output_type": "stream",
     "text": [
      "Contact name1 added\n"
     ]
    }
   ],
   "source": [
    "contacts = {}\n",
    "\n",
    "def addContacts(name, phone):\n",
    "    # verify that the contact does not already exist\n",
    "    if name not in contacts:\n",
    "        contacts[name] = phone\n",
    "        print(\"Contact %s added\" % name)\n",
    "    else:\n",
    "        print(\"Contact %s already exists\" % name)\n",
    "    return\n",
    "addContacts(\"name1\", 1234567890)"
   ]
  },
  {
   "cell_type": "code",
   "execution_count": 7,
   "metadata": {},
   "outputs": [
    {
     "name": "stdout",
     "output_type": "stream",
     "text": [
      "name1 : 123456789\n"
     ]
    }
   ],
   "source": [
    "def searchContacts(name):\n",
    "    if name in contacts:\n",
    "        print(name,\":\", contacts[name])\n",
    "    else:\n",
    "        print(\"%s does not exist\" % name)\n",
    "    return\n",
    "searchContacts(\"name1\")"
   ]
  },
  {
   "cell_type": "code",
   "execution_count": 47,
   "metadata": {},
   "outputs": [
    {
     "name": "stdout",
     "output_type": "stream",
     "text": [
      "{'name2': 9876543210, 'name3': 3456218790, 'name4': 2345678901, 'name1': 2345678901}\n"
     ]
    }
   ],
   "source": [
    "def listAllContacts():\n",
    "    print(contacts)\n",
    "listAllContacts()\n",
    "\n",
    "    "
   ]
  },
  {
   "cell_type": "code",
   "execution_count": 57,
   "metadata": {},
   "outputs": [
    {
     "name": "stdout",
     "output_type": "stream",
     "text": [
      "name2 : 9876543210\n",
      "name3 : 3456218790\n",
      "name1 : 456372834898\n"
     ]
    }
   ],
   "source": [
    "def listOfAllContacts():\n",
    "    for keys,values in contacts.items():\n",
    "        print(keys,\":\", values)\n",
    "listOfAllContacts()\n"
   ]
  },
  {
   "cell_type": "code",
   "execution_count": 52,
   "metadata": {},
   "outputs": [
    {
     "name": "stdout",
     "output_type": "stream",
     "text": [
      "{'name2': 9876543210, 'name3': 3456218790, 'name4': 2345678901, 'name1': 456372834898}\n"
     ]
    }
   ],
   "source": [
    "def modifyContacts(name):\n",
    "    contacts[name]=456372834898\n",
    "    print(contacts)\n",
    "modifyContacts(\"name1\")"
   ]
  },
  {
   "cell_type": "code",
   "execution_count": 53,
   "metadata": {},
   "outputs": [
    {
     "name": "stdout",
     "output_type": "stream",
     "text": [
      "{'name2': 9876543210, 'name3': 3456218790, 'name1': 456372834898}\n"
     ]
    }
   ],
   "source": [
    "def removeContacts(name):\n",
    "    contacts.pop(name)\n",
    "    print(contacts)\n",
    "removeContacts(\"name4\")"
   ]
  },
  {
   "cell_type": "code",
   "execution_count": null,
   "metadata": {},
   "outputs": [],
   "source": []
  },
  {
   "cell_type": "code",
   "execution_count": 46,
   "metadata": {},
   "outputs": [
    {
     "name": "stdout",
     "output_type": "stream",
     "text": [
      "3 added successfully\n"
     ]
    }
   ],
   "source": [
    "# New Contacts is given as a dictionary\n",
    "# Merge new contacts with existing contacts\n",
    "def importContacts(newContacts):\n",
    "    contacts.update(newContacts)\n",
    "    print(len(newContacts.keys()), \"added successfully\")\n",
    "    return\n",
    "newContacts = {\"name2\":9876543210, \"name3\":3456218790, \"name1\":2345678901}\n",
    "\n",
    "importContacts(newContacts)\n",
    "    "
   ]
  },
  {
   "cell_type": "code",
   "execution_count": null,
   "metadata": {},
   "outputs": [],
   "source": []
  },
  {
   "cell_type": "markdown",
   "metadata": {},
   "source": [
    "### Packages and Modules\n",
    "\n",
    "**Packages**-> Collection of Modules(Python File .Py)\n",
    "\n",
    "**Sub Packages** ->\n",
    "\n",
    "**Modules** -> A single python file containing functions\n",
    "\n",
    "Package -> subpackage -> Module -> Functions "
   ]
  },
  {
   "cell_type": "code",
   "execution_count": 60,
   "metadata": {},
   "outputs": [
    {
     "data": {
      "text/plain": [
       "3.141592653589793"
      ]
     },
     "execution_count": 60,
     "metadata": {},
     "output_type": "execute_result"
    }
   ],
   "source": [
    "import math  #importing the math module\n",
    "\n",
    "math.floor(123.456)\n",
    "\n",
    "math.pi"
   ]
  },
  {
   "cell_type": "code",
   "execution_count": 61,
   "metadata": {},
   "outputs": [
    {
     "data": {
      "text/plain": [
       "123"
      ]
     },
     "execution_count": 61,
     "metadata": {},
     "output_type": "execute_result"
    }
   ],
   "source": [
    "from math import floor\n",
    "\n",
    "floor(123.456)\n"
   ]
  },
  {
   "cell_type": "code",
   "execution_count": 62,
   "metadata": {},
   "outputs": [
    {
     "data": {
      "text/plain": [
       "123"
      ]
     },
     "execution_count": 62,
     "metadata": {},
     "output_type": "execute_result"
    }
   ],
   "source": [
    "from math import floor as fl\n",
    "\n",
    "fl(123.456)\n"
   ]
  },
  {
   "cell_type": "code",
   "execution_count": 70,
   "metadata": {},
   "outputs": [
    {
     "name": "stdout",
     "output_type": "stream",
     "text": [
      "10 49 69 72 13 29 40 50 77 26 "
     ]
    }
   ],
   "source": [
    "# Function to generate N random numbers in agiven range\n",
    "\n",
    "import random\n",
    "\n",
    "def generateNRandomNumbers(n, lb, ub):\n",
    "    for i in range(0,n):\n",
    "        print(random.randint(lb, ub), end =\" \")\n",
    "generateNRandomNumbers(10, 0, 100)"
   ]
  },
  {
   "cell_type": "code",
   "execution_count": null,
   "metadata": {},
   "outputs": [],
   "source": []
  },
  {
   "cell_type": "code",
   "execution_count": 4,
   "metadata": {},
   "outputs": [
    {
     "data": {
      "text/plain": [
       "True"
      ]
     },
     "execution_count": 4,
     "metadata": {},
     "output_type": "execute_result"
    }
   ],
   "source": [
    "from Packages import numerical\n",
    "\n",
    "numerical.numberOfPrimeFactors(10100)\n",
    "numerical.isPrime(5)"
   ]
  },
  {
   "cell_type": "code",
   "execution_count": 6,
   "metadata": {},
   "outputs": [
    {
     "data": {
      "text/plain": [
       "3"
      ]
     },
     "execution_count": 6,
     "metadata": {},
     "output_type": "execute_result"
    }
   ],
   "source": [
    "from Packages.numerical import numberOfPrimeFactors\n",
    "numberOfPrimeFactors(10100)"
   ]
  },
  {
   "cell_type": "code",
   "execution_count": 8,
   "metadata": {},
   "outputs": [
    {
     "name": "stdout",
     "output_type": "stream",
     "text": [
      "Helo Kirthi\n",
      "Helo Kirthi\n"
     ]
    }
   ],
   "source": [
    "s = input()\n",
    "print (s)"
   ]
  },
  {
   "cell_type": "code",
   "execution_count": null,
   "metadata": {},
   "outputs": [],
   "source": []
  }
 ],
 "metadata": {
  "kernelspec": {
   "display_name": "Python 3",
   "language": "python",
   "name": "python3"
  },
  "language_info": {
   "codemirror_mode": {
    "name": "ipython",
    "version": 3
   },
   "file_extension": ".py",
   "mimetype": "text/x-python",
   "name": "python",
   "nbconvert_exporter": "python",
   "pygments_lexer": "ipython3",
   "version": "3.7.3"
  }
 },
 "nbformat": 4,
 "nbformat_minor": 2
}
