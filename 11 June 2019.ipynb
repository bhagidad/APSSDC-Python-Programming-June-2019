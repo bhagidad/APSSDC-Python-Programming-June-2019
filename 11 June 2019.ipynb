{
 "cells": [
  {
   "cell_type": "markdown",
   "metadata": {},
   "source": [
    " ### Markdown Basics\n",
    " \n",
    " * **Bold** \n",
    " * *Italatic* \n",
    " * ***IB***\n",
    " * Normal Text\n",
    "   * Sublist 1\n",
    "   * Sublist 2\n",
    "\n",
    " \n",
    " 1. Orderd list element 1 \n",
    " 2. Oredred list element 2 \n",
    " \n",
    " \n",
    " - [ ] Option 1 \n",
    " - [.] Option 2 \n",
    " - [x] Option 3 \n",
    " \n",
    " I get 10 times more traffic from [Google][1] than from\n",
    "[Yahoo][2] or [MSN][3].\n",
    "\n",
    "  [1]: http://google.com/        \"Google\"\n",
    "  [2]: http://search.yahoo.com/  \"Yahoo Search\"\n",
    "  [3]: http://search.msn.com/    \"MSN Search\"\n",
    " \n",
    " \n",
    " 'printf(\"hello Markdown\")'\n",
    " \n",
    "http://google.com\n",
    "\n",
    "\n",
    "mark@gmail.com\n",
    " \n",
    "[ Jupyter Logo. ](Jupyterlogo.png)  \n",
    " \n",
    " <img src=\"Jupyterlogo.png\" style=\"float:left\" height=\"1000\" width=\"500\">"
   ]
  },
  {
   "cell_type": "code",
   "execution_count": null,
   "metadata": {},
   "outputs": [],
   "source": []
  },
  {
   "cell_type": "markdown",
   "metadata": {},
   "source": [
    " ### Python Basics\n",
    " \n",
    " Python Version 3.7\n",
    " \n",
    " - Scripting\n",
    " - Object Oriented\n",
    " - Functional"
   ]
  },
  {
   "cell_type": "code",
   "execution_count": 12,
   "metadata": {},
   "outputs": [
    {
     "name": "stdout",
     "output_type": "stream",
     "text": [
      "Good Afternoon ! || Hello Python\n"
     ]
    }
   ],
   "source": [
    "# Python Comments\n",
    "\n",
    "print(\"Good Afternoon\",\"!\", end=\" || \") # Basic Output\n",
    "print(\"Hello Python\")"
   ]
  },
  {
   "cell_type": "code",
   "execution_count": null,
   "metadata": {},
   "outputs": [],
   "source": []
  },
  {
   "cell_type": "markdown",
   "metadata": {},
   "source": [
    " ### Assignment"
   ]
  },
  {
   "cell_type": "code",
   "execution_count": 41,
   "metadata": {},
   "outputs": [
    {
     "name": "stdout",
     "output_type": "stream",
     "text": [
      "123 234 345\n"
     ]
    }
   ],
   "source": [
    "n1 = 123456  # Singlr Variable Assignment \n",
    "\n",
    "n2 = n3 = n4 = n1 # Multi Variable Assignment of the same number \n",
    "\n",
    "a,b,c = 123,234,345 # Multi Variable Assignment\n",
    "a\n",
    "print(a,b,c)"
   ]
  },
  {
   "cell_type": "markdown",
   "metadata": {},
   "source": []
  },
  {
   "cell_type": "markdown",
   "metadata": {},
   "source": [
    "### Data Types & Conversions\n",
    "\n",
    "- int\n",
    "- float\n",
    "- string"
   ]
  },
  {
   "cell_type": "code",
   "execution_count": 35,
   "metadata": {},
   "outputs": [
    {
     "data": {
      "text/plain": [
       "12.0"
      ]
     },
     "execution_count": 35,
     "metadata": {},
     "output_type": "execute_result"
    }
   ],
   "source": [
    "type(a)\n",
    "s1=\"python\"\n",
    "type(s1)\n",
    "\n",
    "f1 = 12.345\n",
    "type(f1)\n",
    "\n",
    "float(str(int(f1)))"
   ]
  },
  {
   "cell_type": "code",
   "execution_count": null,
   "metadata": {},
   "outputs": [],
   "source": []
  },
  {
   "cell_type": "markdown",
   "metadata": {},
   "source": [
    "### Arithmatic Operations\n",
    "\n",
    "- +\n",
    "- -\n",
    "- *\n",
    "- /\n",
    "- %\n",
    "- **"
   ]
  },
  {
   "cell_type": "code",
   "execution_count": 27,
   "metadata": {},
   "outputs": [
    {
     "data": {
      "text/plain": [
       "str"
      ]
     },
     "execution_count": 27,
     "metadata": {},
     "output_type": "execute_result"
    }
   ],
   "source": [
    "n1 % 11\n",
    "\n",
    "n3 = n2 ** 123456\n",
    "\n",
    "type(n3)\n",
    "len(str(n3))\n",
    "n3\n",
    "\n",
    "atoms = 10 ** 82\n",
    "len(str(atoms))\n",
    "type(str(atoms))"
   ]
  },
  {
   "cell_type": "code",
   "execution_count": null,
   "metadata": {},
   "outputs": [],
   "source": []
  },
  {
   "cell_type": "markdown",
   "metadata": {},
   "source": [
    "### Conditionals"
   ]
  },
  {
   "cell_type": "code",
   "execution_count": 46,
   "metadata": {},
   "outputs": [
    {
     "name": "stdout",
     "output_type": "stream",
     "text": [
      "TRUE\n"
     ]
    }
   ],
   "source": [
    "if atoms < 10 ** 96:\n",
    "    print(\"TRUE\")\n",
    "else:\n",
    "    print(\"FALSE\")\n"
   ]
  },
  {
   "cell_type": "code",
   "execution_count": 2,
   "metadata": {},
   "outputs": [
    {
     "name": "stdout",
     "output_type": "stream",
     "text": [
      "Odd\n"
     ]
    }
   ],
   "source": [
    "# Check if a number is Even\n",
    "\n",
    "n = 123\n",
    "if n % 2 == 0:\n",
    "    print (\"Even\")\n",
    "else:\n",
    "    print(\"Odd\")"
   ]
  },
  {
   "cell_type": "code",
   "execution_count": null,
   "metadata": {},
   "outputs": [],
   "source": []
  },
  {
   "cell_type": "code",
   "execution_count": 1,
   "metadata": {},
   "outputs": [
    {
     "name": "stdout",
     "output_type": "stream",
     "text": [
      "Enter the First number12\n",
      "Enter the Second number40\n",
      "Enter the Third number23\n",
      "40 is the greatest\n"
     ]
    }
   ],
   "source": [
    "  # Find the greatest of 3 numbers\n",
    "\n",
    "n1 = int(input(\"Enter the First number\"))\n",
    "n2 = int(input(\"Enter the Second number\"))\n",
    "n3 = int(input(\"Enter the Third number\"))\n",
    "\n",
    "if n1 > n2 and n1 > n3:\n",
    "    print(n1, \"is the greatest\")\n",
    "elif n2 > n3:\n",
    "    print(n2, \"is the greatest\")\n",
    "else:\n",
    "    print(n3, \"is the greatest\")"
   ]
  },
  {
   "cell_type": "code",
   "execution_count": 13,
   "metadata": {},
   "outputs": [
    {
     "name": "stdout",
     "output_type": "stream",
     "text": [
      "Enter a year2018\n",
      "Not a Leap Year\n"
     ]
    }
   ],
   "source": [
    "# Check if a year is a Leap Year  \n",
    "a = int(input(\"Enter a year\"))\n",
    "\n",
    "if a % 400 == 0 or (a % 4 == 0 and a % 100 != 0):\n",
    "    print(\"Leap Year\")\n",
    "else:\n",
    "    print(\"Not a Leap Year\")"
   ]
  },
  {
   "cell_type": "code",
   "execution_count": 14,
   "metadata": {},
   "outputs": [
    {
     "name": "stdout",
     "output_type": "stream",
     "text": [
      "Enter a number34\n",
      "Enter Upper Boundary12\n",
      "Enter Lower Boundary1\n",
      "The given number is not in given range\n"
     ]
    }
   ],
   "source": [
    "# Check if a number exists in a range\n",
    "\n",
    "n = int(input(\"Enter a number\"))\n",
    "ub = int(input(\"Enter Upper Boundary\"))\n",
    "lb = int(input(\"Enter Lower Boundary\"))\n",
    "if n <= ub and n >= lb:\n",
    "         print(\"The given number is in given range\")\n",
    "else:\n",
    "         print(\"The given number is not in given range\")"
   ]
  },
  {
   "cell_type": "code",
   "execution_count": 15,
   "metadata": {},
   "outputs": [
    {
     "name": "stdout",
     "output_type": "stream",
     "text": [
      "Enter a number12345\n",
      "5\n"
     ]
    }
   ],
   "source": [
    "# Calculate the number of digits in a number\n",
    "n = int(input(\"Enter a number\"))\n",
    "print(len(str(n)))"
   ]
  },
  {
   "cell_type": "code",
   "execution_count": 16,
   "metadata": {},
   "outputs": [
    {
     "name": "stdout",
     "output_type": "stream",
     "text": [
      "Eneter a number12\n",
      "12 not multiple of 10\n"
     ]
    }
   ],
   "source": [
    "# Check if a number is multiple of 10\n",
    "\n",
    "n = int(input(\"Enter a number\"))\n",
    "if (n % 10 == 0):\n",
    "    print(n, \" is a multiple of 10 \")\n",
    "else:\n",
    "    print(n, \"not multiple of 10\")"
   ]
  },
  {
   "cell_type": "code",
   "execution_count": 2,
   "metadata": {},
   "outputs": [
    {
     "name": "stdout",
     "output_type": "stream",
     "text": [
      "Eneter a number20\n",
      "20  is factor of 10 \n"
     ]
    }
   ],
   "source": [
    "# Check if a number is a Factor of 1000\n",
    "\n",
    "n = int(input(\"Eneter a number\"))\n",
    "if (1000 % n == 0):\n",
    "    print(n, \" is factor of 10 \")\n",
    "else:\n",
    "    print(n, \"not factor of 10\")"
   ]
  },
  {
   "cell_type": "code",
   "execution_count": 4,
   "metadata": {},
   "outputs": [
    {
     "name": "stdout",
     "output_type": "stream",
     "text": [
      "123456 is not equal to Python\n"
     ]
    }
   ],
   "source": [
    "# Check if given string is equal to a number\n",
    "\n",
    "s1 = \"Python\"\n",
    "n1 = 123456\n",
    "if str(n1)== s1:\n",
    "    print(n1, \"is equal to\", s1)\n",
    "else:\n",
    "    print(n1, \"is not equal to\", s1)"
   ]
  },
  {
   "cell_type": "code",
   "execution_count": 17,
   "metadata": {},
   "outputs": [
    {
     "data": {
      "text/plain": [
       "3.4641016151377544"
      ]
     },
     "execution_count": 17,
     "metadata": {},
     "output_type": "execute_result"
    }
   ],
   "source": [
    "# Calculate the square root of a number without using math functions\n",
    "n1 = 123\n",
    "n ** 0.5"
   ]
  },
  {
   "cell_type": "code",
   "execution_count": 5,
   "metadata": {},
   "outputs": [
    {
     "name": "stdout",
     "output_type": "stream",
     "text": [
      "31622400000000000\n"
     ]
    }
   ],
   "source": [
    "# calculate the number of nano seconds in a given year(considering leap year logic)\n",
    "a = 2016\n",
    "\n",
    "if a % 400 == 0 or (a % 4 == 0 and a % 100 != 0):\n",
    "    print(366 * 24 * 60 * 60 * (10 ** 9))\n",
    "else:\n",
    "    print(365 * 24 * 60 * 60 * (10 ** 9))"
   ]
  },
  {
   "cell_type": "code",
   "execution_count": null,
   "metadata": {},
   "outputs": [],
   "source": []
  }
 ],
 "metadata": {
  "kernelspec": {
   "display_name": "Python 3",
   "language": "python",
   "name": "python3"
  },
  "language_info": {
   "codemirror_mode": {
    "name": "ipython",
    "version": 3
   },
   "file_extension": ".py",
   "mimetype": "text/x-python",
   "name": "python",
   "nbconvert_exporter": "python",
   "pygments_lexer": "ipython3",
   "version": "3.7.3"
  }
 },
 "nbformat": 4,
 "nbformat_minor": 2
}
