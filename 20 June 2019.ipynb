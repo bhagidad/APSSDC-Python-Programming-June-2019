{
 "cells": [
  {
   "cell_type": "markdown",
   "metadata": {},
   "source": [
    "### Regular Expressions\n",
    "- Constructing Regular Expressions for various use cases\n",
    "- Regular Expressions Module and related in Python\n",
    "- Improving Contacts application with name and phone number validation File Handling\n",
    "\n",
    "### File Handling\n",
    "- Text Files\n",
    "- Upgrading the Contacts Application to store contact information in a text\n"
   ]
  },
  {
   "cell_type": "markdown",
   "metadata": {},
   "source": [
    "### Regular Expressions\n",
    "Pattern Matching\n",
    "Symbolic Notation of a pattern\n",
    "Pattern : Format which repeats\n",
    "Pattern(RE) represents The set of all values that matches that pattern\n",
    "\n",
    "- ^[0-9]$ -> Any digit\n",
    "\n",
    "- ^[a-z]$ -> Any lower case alphabet\n",
    "\n",
    "- ^[2468]$ -> All single digit multiples of 2\n",
    "\n",
    "- ^[8642]$  -> All single digit multiples of 2\n",
    "\n",
    "- ^[6824]$  -> All single digit multiples of 2\n",
    "\n",
    "- ^[0-9]{1}$ −> Only single digit one number\n",
    "\n",
    "- ^[0−9]{3}$ −> Only three digit  numbers\n",
    "\n",
    "- ^[1-9][0-9]*0$ -> All multiples of 10\n",
    "\n",
    "- ^([1-9][0-9]*[05])$|^([5])$ -> All multiples of 5\n",
    "     \n",
    "- ^[1-9][0-9]{9}$  -> All 10 digit numbers\n",
    "     \n",
    "- ^[6-9][0-9]{9}$|^[0][6-9][0-9]{9}|^[+][9][1][6-9][0-9]{9}$ -> Validating Phone Number(India)\n",
    "\n",
    "  \n",
    "- ^[0-9a-z][0-9a-z_.]{4,13}[0-9a-z][@][a-z0-9]{3,18}[.][a-z]{2,4}$  -> Email validation(username@domail.extension)\n",
    "\n",
    "- -> Email validation(username@domail.extension)\n",
    "    - username\n",
    "        - Length of user name : [6,15]   \n",
    "        - No special characters other than _.\n",
    "        - Sould not brgin and end with_.\n",
    "        - Characterset : all digits and alphabet\n",
    "    - domain\n",
    "        - Length of domain : [3,18]\n",
    "        - No Special characters\n",
    "        - Characterset : all digits and alphabet\n",
    "    - extensio\n",
    "        - Length of extension : [2,4]\n",
    "        - No Special characters\n",
    "        - Characterset : all digits and alphabet\n",
    "   \n",
    "        \n",
    "- [p][r][i][n][t]$  -> only acceptint print word\n",
    "\n",
    "- (print)$ -> only acceptint print word\n",
    "\n",
    "- [w][o][r][d]$ or (word)$ -> Searching a word\n",
    "\n",
    "- ^[a]...[z]$ -> Any string of length 5 starting with a and ending with z\n",
    "\n",
    "- ^[a].*[z]$ -> Any string of any length starting with a and ending with z\n",
    "\n",
    "\n",
    " \n"
   ]
  },
  {
   "cell_type": "code",
   "execution_count": null,
   "metadata": {},
   "outputs": [],
   "source": []
  },
  {
   "cell_type": "code",
   "execution_count": 9,
   "metadata": {},
   "outputs": [
    {
     "data": {
      "text/plain": [
       "True"
      ]
     },
     "execution_count": 9,
     "metadata": {},
     "output_type": "execute_result"
    }
   ],
   "source": [
    "# Function to validate a phone number\n",
    "import re\n",
    "\n",
    "def phoneNumberValidator(number):\n",
    "    pattern = '^[6-9][0-9]{9}$|^[0][6-9][0-9]{9}|^[+][9][1][6-9][0-9]{9}$'\n",
    "    if re.match(pattern, str(number)):\n",
    "        return True\n",
    "    return False\n",
    "\n",
    "phoneNumberValidator(9505171016)   "
   ]
  },
  {
   "cell_type": "code",
   "execution_count": 10,
   "metadata": {},
   "outputs": [
    {
     "data": {
      "text/plain": [
       "True"
      ]
     },
     "execution_count": 10,
     "metadata": {},
     "output_type": "execute_result"
    }
   ],
   "source": [
    "# Function to validate email\n",
    "import re\n",
    "\n",
    "def emailValidator(email):\n",
    "    pattern = '^[0-9a-z][0-9a-z_.]{4,13}[0-9a-z][@][a-z0-9]{3,18}[.][a-z]{2,4}$'\n",
    "    if re.match(pattern, email):\n",
    "        return True\n",
    "    return False\n",
    "\n",
    "emailValidator(\"abcdef@gmail.com\")   "
   ]
  },
  {
   "cell_type": "code",
   "execution_count": 11,
   "metadata": {},
   "outputs": [
    {
     "name": "stdout",
     "output_type": "stream",
     "text": [
      "name1 added successfully\n"
     ]
    }
   ],
   "source": [
    "contacts = {}\n",
    "\n",
    "def addContacts(name, phone, email):\n",
    "    if name in contacts:\n",
    "        print(name,\"already exists.\")\n",
    "        return\n",
    "    else:\n",
    "        if not phoneNumberValidator(phone):\n",
    "            print (\"Invalid Phone Number\")\n",
    "            return\n",
    "        if not emailValidator(email):\n",
    "            print(\"Invalid Email address\")\n",
    "            return\n",
    "        newContact = []\n",
    "        newContact.append(phone)\n",
    "        newContact.append(email)\n",
    "        contacts[name] = newContact\n",
    "        print(name, \"added successfully\")\n",
    "    return\n",
    "addContacts(\"name1\", 9876543456, \"a34dcde@gmail.com\")"
   ]
  },
  {
   "cell_type": "code",
   "execution_count": 39,
   "metadata": {},
   "outputs": [
    {
     "name": "stdout",
     "output_type": "stream",
     "text": [
      "name1\n",
      "Phone : 9876543456\n",
      "Email : a34dcde@gmail.com\n"
     ]
    }
   ],
   "source": [
    "def searchContacts(name):\n",
    "    if name in contacts:\n",
    "        print(name)\n",
    "        print(\"Phone :\",contacts[name][0])\n",
    "        print(\"Email :\",contacts[name][1])\n",
    "    else:\n",
    "        print(\"%s does not exist\" % name)\n",
    "    return\n",
    "searchContacts(\"name1\")"
   ]
  },
  {
   "cell_type": "code",
   "execution_count": 40,
   "metadata": {},
   "outputs": [
    {
     "name": "stdout",
     "output_type": "stream",
     "text": [
      "1 added successfully\n"
     ]
    }
   ],
   "source": [
    "# New Contacts is given as a dictionary\n",
    "# Merge new contacts with existing contacts\n",
    "def importContacts(newContacts):\n",
    "    contacts.update(newContacts)\n",
    "    print(len(newContacts.keys()), \"added successfully\")\n",
    "    return\n",
    "newContacts = {\"name5\":[9876567850, \"name_5asdfgh@gmail.com\"]}\n",
    "\n",
    "importContacts(newContacts)\n",
    "    "
   ]
  },
  {
   "cell_type": "code",
   "execution_count": 41,
   "metadata": {},
   "outputs": [
    {
     "data": {
      "text/plain": [
       "{'name1': [9876543456, 'a34dcde@gmail.com'],\n",
       " 'name5': [9876567850, 'name_5asdfgh@gmail.com']}"
      ]
     },
     "execution_count": 41,
     "metadata": {},
     "output_type": "execute_result"
    }
   ],
   "source": [
    "contacts"
   ]
  },
  {
   "cell_type": "code",
   "execution_count": 44,
   "metadata": {},
   "outputs": [
    {
     "name": "stdout",
     "output_type": "stream",
     "text": [
      "name1 \n",
      " Phone : 9876543456 \n",
      " Email : a34dcde@gmail.com \n",
      "\n",
      "name5 \n",
      " Phone : 9876567850 \n",
      " Email : name_5asdfgh@gmail.com \n",
      "\n"
     ]
    }
   ],
   "source": [
    "# Function to list all contatcs\n",
    "\n",
    "\n",
    "def listAllcontacts():\n",
    "    for contact, info in contacts.items():\n",
    "        print(contact, \"\\n\", \"Phone :\", info[0], \"\\n\", \"Email :\", info[1], \"\\n\")\n",
    "listAllcontacts()\n",
    "    "
   ]
  },
  {
   "cell_type": "code",
   "execution_count": 2,
   "metadata": {},
   "outputs": [],
   "source": [
    "# Function to edit contact information\n",
    "\n"
   ]
  },
  {
   "cell_type": "code",
   "execution_count": null,
   "metadata": {},
   "outputs": [],
   "source": []
  },
  {
   "cell_type": "markdown",
   "metadata": {},
   "source": [
    "### File Handling in Python\n",
    "\n",
    "File - Document contatining information residing on the perment storage\n",
    "\n",
    "Types - Text, PDF, CSV ext\n",
    "\n",
    "File I/0) = Channelling I/O data to files\n",
    "Default I/O Channels - Keyboard / Screen\n",
    "\n",
    "Change I/O channel to files for Reading and Writing into files\n",
    "\n",
    "\n",
    "Read a file - Input\n",
    "Write to a file - Output to a file\n",
    "\n",
    "Read/Write  a file - open(filename, mode)\n"
   ]
  },
  {
   "cell_type": "code",
   "execution_count": 1,
   "metadata": {},
   "outputs": [],
   "source": [
    "# Function to read a file\n",
    "\n",
    "def readFile(filename):\n",
    "    f = open(filename, 'r')\n",
    "    filedata = f.read()\n",
    "    f.close()\n",
    "    return filedata\n",
    "\n",
    "filename = 'DataFiles/data.txt'\n",
    "filedata = readFile(filename)\n",
    "#for line in filedata.split('\\n'):\n",
    "    #print(line)\n",
    "    \n",
    "def printFileDataLines(filename):\n",
    "    with open(filename,'r') as f:\n",
    "    for line in f:\n",
    "        print(line)\n",
    "    return\n",
    "printFileDataLines(filename)\n",
    "    "
   ]
  },
  {
   "cell_type": "code",
   "execution_count": 6,
   "metadata": {},
   "outputs": [
    {
     "name": "stdout",
     "output_type": "stream",
     "text": [
      "Line 1\n",
      "Line 2\n",
      "Line 3"
     ]
    }
   ],
   "source": [
    "# Function to read a file\n",
    "\n",
    "def readFile(filename):\n",
    "    f = open(filename, 'r')\n",
    "    filedata = f.read()\n",
    "    f.close()\n",
    "    return filedata\n",
    "\n",
    "filename = 'DataFiles/data.txt'\n",
    "filedata = readFile(filename)\n",
    "#for line in filedata.split('\\n'):\n",
    "    #print(line)\n",
    "    \n",
    "def printFileDataLines(filename):\n",
    "    with open(filename,'r') as f:\n",
    "        for line in f:\n",
    "            print(line, end='')\n",
    "        return\n",
    "printFileDataLines(filename)\n",
    "    "
   ]
  },
  {
   "cell_type": "code",
   "execution_count": 10,
   "metadata": {},
   "outputs": [],
   "source": [
    "# Functio to write data into a file\n",
    "\n",
    "def writeIntoFile(filename,filedata):\n",
    "    with open(filename, 'w') as f:\n",
    "        f.write(filedata)\n",
    "    return\n",
    "filename = 'DataFiles/data.txt'\n",
    "writeIntoFile(filename, \"new data\\n\")"
   ]
  },
  {
   "cell_type": "code",
   "execution_count": 5,
   "metadata": {},
   "outputs": [],
   "source": [
    "# Function to append data to a file\n",
    "\n",
    "def appendDataToFile(filename, filedata):\n",
    "    with open(filename, 'a') as f:\n",
    "        f.write(filedata)\n",
    "    return\n",
    "\n",
    "#filename = 'DataFiles/data.txt'\n",
    "filedata = \"Line2\\nLine3\"\n",
    "appendDataToFile(filename, filedata)        "
   ]
  },
  {
   "cell_type": "code",
   "execution_count": 8,
   "metadata": {},
   "outputs": [],
   "source": [
    "# Function to append data to a file\n",
    "\n",
    "def appendDataToFile(filename, filedata):\n",
    "    with open(filename, 'a') as f:\n",
    "        for line in filedata:\n",
    "            f.write('\\n'+line)\n",
    "        return\n",
    "\n",
    "#filename = 'DataFiles/data.txt'\n",
    "filedata = [\"Line4\\nLine5\"]\n",
    "appendDataToFile(filename, filedata)        "
   ]
  },
  {
   "cell_type": "code",
   "execution_count": null,
   "metadata": {},
   "outputs": [],
   "source": []
  }
 ],
 "metadata": {
  "kernelspec": {
   "display_name": "Python 3",
   "language": "python",
   "name": "python3"
  },
  "language_info": {
   "codemirror_mode": {
    "name": "ipython",
    "version": 3
   },
   "file_extension": ".py",
   "mimetype": "text/x-python",
   "name": "python",
   "nbconvert_exporter": "python",
   "pygments_lexer": "ipython3",
   "version": "3.7.3"
  }
 },
 "nbformat": 4,
 "nbformat_minor": 2
}
