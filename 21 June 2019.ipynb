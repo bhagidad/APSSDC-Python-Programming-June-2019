{
 "cells": [
  {
   "cell_type": "code",
   "execution_count": null,
   "metadata": {},
   "outputs": [],
   "source": []
  },
  {
   "cell_type": "code",
   "execution_count": 63,
   "metadata": {},
   "outputs": [
    {
     "name": "stdout",
     "output_type": "stream",
     "text": [
      "True\n",
      "name2 already exists\n"
     ]
    }
   ],
   "source": [
    "# Function to add contact to contacts text file\n",
    "\n",
    "from Packages.validators import phoneNumberValidator as pnv\n",
    "from Packages.validators import emailValidator as ev\n",
    "\n",
    "def addContact(name, phone, email):\n",
    "    # Store data as name,phone,email in the contacts file\n",
    "    filename = 'DataFiles/contacts.txt'\n",
    "    if not checkContactExists(name):\n",
    "        if pnv(phone) and ev(email):\n",
    "             with open(filename, 'a') as f:\n",
    "                line = name + ',' + str(phone) + ',' + email + '\\n'\n",
    "                f.write(line)\n",
    "                print(name,'added to contacts')\n",
    "        else:\n",
    "            print('Invalid Phone Number or Email')\n",
    "            return\n",
    "    else:\n",
    "        print(name, 'already exists')\n",
    "    return\n",
    "\n",
    "import re\n",
    "# Function to check if contact already exists\n",
    "\n",
    "def checkContactExists(name):\n",
    "    filename = 'DataFiles/contacts.txt'\n",
    "    with open(filename, 'r') as f:\n",
    "        filedata = f.read()\n",
    "        pattern = name+',' \n",
    "        \n",
    "    return re.search(pattern, filedata)\n",
    "if checkContactExists(\"name1\"):\n",
    "    print (True)\n",
    "else:\n",
    "    print(False)\n",
    "    \n",
    "    \n",
    "addContact('name2', 9876544351, \"asder2_34@gmail.com\")"
   ]
  },
  {
   "cell_type": "code",
   "execution_count": 6,
   "metadata": {},
   "outputs": [
    {
     "data": {
      "text/plain": [
       "[['\\n'],\n",
       " ['name1', '9876543210', 'asdfg@gmail.com\\n'],\n",
       " ['\\n'],\n",
       " ['name2', '9876543910', 'asdghj@asdf.bm\\n'],\n",
       " ['\\n'],\n",
       " ['name3', '9876543910', 'asdghj@asdfhjgt.bm\\n'],\n",
       " ['\\n'],\n",
       " ['name4', '9000001122', 'hiiiiiii@gmail.bm']]"
      ]
     },
     "execution_count": 6,
     "metadata": {},
     "output_type": "execute_result"
    }
   ],
   "source": [
    "filename = 'DataFiles/contacts.txt'\n",
    "def csvToList(filename):\n",
    "    li = []\n",
    "    with open(filename, 'r') as f:\n",
    "        for line in f:\n",
    "            li.append(line.split(','))\n",
    "    return li\n",
    " \n",
    "def listToFile(li):\n",
    "    s = ''\n",
    "    for i in li:\n",
    "        s += ','.join(i)\n",
    "    return s\n",
    "li = csvToList(filename)\n",
    "csvToList(filename)"
   ]
  },
  {
   "cell_type": "code",
   "execution_count": null,
   "metadata": {},
   "outputs": [],
   "source": []
  },
  {
   "cell_type": "code",
   "execution_count": 72,
   "metadata": {},
   "outputs": [
    {
     "name": "stdout",
     "output_type": "stream",
     "text": [
      "name1 is in contacts\n",
      "phone Number:  9876543210\n",
      "email id :  name1_23@gmail.com\n",
      "\n"
     ]
    }
   ],
   "source": [
    "def searchContact(name):\n",
    "    l=[]\n",
    "    with open('DataFiles/contacts.txt','r') as f:\n",
    "        for line in f:\n",
    "            l.append(line.split(','))\n",
    "        for i in range(0,len(l)):\n",
    "            if(l[i][0]==name):\n",
    "                f=0\n",
    "                p=l[i][1]\n",
    "                e=l[i][2]\n",
    "        if f==0:\n",
    "            print(\"%s is in contacts\"%name)\n",
    "            print(\"phone Number: \",p)\n",
    "            print(\"email id : \",e)\n",
    "        else:\n",
    "            print(\"Not Exist Please Enter Correct Details\")\n",
    "            \n",
    "searchContact(\"name1\")       \n",
    "        "
   ]
  },
  {
   "cell_type": "code",
   "execution_count": null,
   "metadata": {},
   "outputs": [],
   "source": []
  },
  {
   "cell_type": "code",
   "execution_count": 94,
   "metadata": {},
   "outputs": [
    {
     "name": "stdout",
     "output_type": "stream",
     "text": [
      "[['name1', '9876432134', 'asdfg@gmail.com\\n']]\n"
     ]
    }
   ],
   "source": [
    "# Delete a contact in acontact list\n",
    "def deleteContact(name):\n",
    "    l=[]\n",
    "    with open('DataFiles/contacts.txt','r') as f:\n",
    "        for line in f:\n",
    "            l.append(line.split(','))\n",
    "    for i in range(0,len(l)):\n",
    "        if(l[i][0]==name):\n",
    "            l.pop(i)\n",
    "            break\n",
    "    print(l)\n",
    "    with open('DataFiles/contacts.txt','w')as f1:\n",
    "        for line in l:\n",
    "            s = ','.join(line)            \n",
    "            f1.writelines(s)\n",
    "            \n",
    "deleteContact(\"name2\")    "
   ]
  },
  {
   "cell_type": "code",
   "execution_count": 3,
   "metadata": {},
   "outputs": [],
   "source": [
    "from Packages.validators import phoneNumberValidator as pnv, emailValidator as ev\n",
    "\n",
    "def modifyContacts(name,phone,email):\n",
    "    filename='DataFiles/contacts.txt'\n",
    "    #c=0\n",
    "    li=[]\n",
    "    with open(filename,'r') as f:\n",
    "        for line in f:\n",
    "            li.append(line.split(','))\n",
    "    for i in range(0,len(li)):\n",
    "        if li[i][0]==name:\n",
    "            li[i][1]=phone\n",
    "            li[i][2]=email\n",
    "                #print(li)\n",
    "            if pnv(phone) and ev(email):\n",
    "                with open('DataFiles/contacts.txt','w') as f1:\n",
    "                    for line in li:\n",
    "                        rline=','.join(line)\n",
    "                        f1.writelines('\\n' +rline)\n",
    "                        #c=1\n",
    "            else:\n",
    "                print(\"Invalid Phone number or Email \")\n",
    "        \n",
    "modifyContacts(\"name4\",'9000001122','hiiiiiii@gmail.bm')"
   ]
  },
  {
   "cell_type": "code",
   "execution_count": null,
   "metadata": {},
   "outputs": [],
   "source": [
    "# List all Contacts\n",
    "\n",
    "def listAllContacts()"
   ]
  }
 ],
 "metadata": {
  "kernelspec": {
   "display_name": "Python 3",
   "language": "python",
   "name": "python3"
  },
  "language_info": {
   "codemirror_mode": {
    "name": "ipython",
    "version": 3
   },
   "file_extension": ".py",
   "mimetype": "text/x-python",
   "name": "python",
   "nbconvert_exporter": "python",
   "pygments_lexer": "ipython3",
   "version": "3.7.3"
  }
 },
 "nbformat": 4,
 "nbformat_minor": 2
}
