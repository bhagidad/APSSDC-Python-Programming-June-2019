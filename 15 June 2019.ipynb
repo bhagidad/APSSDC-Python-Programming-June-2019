{
 "cells": [
  {
   "cell_type": "code",
   "execution_count": 3,
   "metadata": {},
   "outputs": [
    {
     "name": "stdout",
     "output_type": "stream",
     "text": [
      "-1\n"
     ]
    }
   ],
   "source": [
    "# Closest to zero.... Greatest value\n",
    "\n",
    "li = [-1, -2, 2, 3, 1]\n",
    "\n",
    "li.sort()\n",
    "\n",
    "pl = []\n",
    "\n",
    "for i in li:\n",
    "    pl.append(abs(i))\n",
    "pl.sort()\n",
    "if pl[0] in li:\n",
    "    print(pl[0])\n",
    "else:\n",
    "    print(-pl[0])"
   ]
  },
  {
   "cell_type": "code",
   "execution_count": 5,
   "metadata": {},
   "outputs": [
    {
     "name": "stdout",
     "output_type": "stream",
     "text": [
      "-1\n"
     ]
    }
   ],
   "source": [
    "li = [-1, -2, 2, 3, 1] # smallest value\n",
    "\n",
    "li.sort()\n",
    "\n",
    "pl = []\n",
    "\n",
    "for i in li:\n",
    "    pl.append(abs(i))\n",
    "pl.sort()\n",
    "if -pl[0] in li:\n",
    "    print(-pl[0])\n",
    "else:\n",
    "    print(pl[0])"
   ]
  },
  {
   "cell_type": "code",
   "execution_count": 8,
   "metadata": {},
   "outputs": [
    {
     "name": "stdout",
     "output_type": "stream",
     "text": [
      "10\n"
     ]
    }
   ],
   "source": [
    "li = [-1, -2, 2, 3,10] # Farthest to zero, greatest number\n",
    "li.sort()\n",
    "\n",
    "pl = []\n",
    "\n",
    "for i in li:\n",
    "    pl.append(abs(i))\n",
    "pl.sort()\n",
    "if pl[-1] in li:\n",
    "    print(pl[-1])\n",
    "else:\n",
    "    print(-pl[-1])"
   ]
  },
  {
   "cell_type": "code",
   "execution_count": 10,
   "metadata": {},
   "outputs": [
    {
     "name": "stdout",
     "output_type": "stream",
     "text": [
      "-10\n"
     ]
    }
   ],
   "source": [
    "li = [-1, -2, 2, 3, 10, -10] # Farthest to zero, smallest number\n",
    "li.sort()\n",
    "\n",
    "pl = []\n",
    "\n",
    "for i in li:\n",
    "    pl.append(abs(i))\n",
    "pl.sort()\n",
    "if -pl[-1] in li:\n",
    "    print(-pl[-1])\n",
    "else:\n",
    "    print(pl[-1])"
   ]
  },
  {
   "cell_type": "markdown",
   "metadata": {},
   "source": [
    "### Problem - 3\n",
    "You are given three numbers a, b, c \n",
    "write program to find largest number\n",
    "which is lessthan or equal to c and leaves reminder b when divider by a\n",
    "\n",
    "\n"
   ]
  },
  {
   "cell_type": "code",
   "execution_count": 4,
   "metadata": {},
   "outputs": [
    {
     "data": {
      "text/plain": [
       "8"
      ]
     },
     "execution_count": 4,
     "metadata": {},
     "output_type": "execute_result"
    }
   ],
   "source": [
    "def cal(a, b, c):\n",
    "    for i in range(c,a-1,-1):\n",
    "        if i % a == b:\n",
    "            return i\n",
    "    return -1\n",
    "cal(3, 2, 9)"
   ]
  },
  {
   "cell_type": "code",
   "execution_count": null,
   "metadata": {},
   "outputs": [],
   "source": []
  },
  {
   "cell_type": "code",
   "execution_count": null,
   "metadata": {},
   "outputs": [],
   "source": []
  },
  {
   "cell_type": "code",
   "execution_count": null,
   "metadata": {},
   "outputs": [],
   "source": []
  },
  {
   "cell_type": "code",
   "execution_count": null,
   "metadata": {},
   "outputs": [],
   "source": []
  },
  {
   "cell_type": "code",
   "execution_count": null,
   "metadata": {},
   "outputs": [],
   "source": []
  }
 ],
 "metadata": {
  "kernelspec": {
   "display_name": "Python 3",
   "language": "python",
   "name": "python3"
  },
  "language_info": {
   "codemirror_mode": {
    "name": "ipython",
    "version": 3
   },
   "file_extension": ".py",
   "mimetype": "text/x-python",
   "name": "python",
   "nbconvert_exporter": "python",
   "pygments_lexer": "ipython3",
   "version": "3.7.3"
  }
 },
 "nbformat": 4,
 "nbformat_minor": 2
}
